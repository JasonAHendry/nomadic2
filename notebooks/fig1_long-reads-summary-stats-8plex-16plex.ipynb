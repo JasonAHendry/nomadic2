{
 "cells": [
  {
   "cell_type": "markdown",
   "id": "a55f2ae3",
   "metadata": {},
   "source": [
    "### Figure 1. Adaptible and cost-effective long-range multiplex PCR design in the context of a low complexity genome."
   ]
  },
  {
   "cell_type": "code",
   "execution_count": 1,
   "id": "4edc4ede",
   "metadata": {},
   "outputs": [],
   "source": [
    "import os\n",
    "import numpy as np\n",
    "import pandas as pd\n",
    "import pysam\n",
    "\n",
    "from dataclasses import dataclass\n",
    "\n",
    "from nomadic.lib.process_gffs import load_gff\n",
    "from nomadic.lib.process_gffs import add_gff_fields\n",
    "from nomadic.truthset.fasta import load_haplotype_from_fasta\n",
    "from nomadic.lib.statistics import get_homopolymer_runs, calc_sliding_percentGC\n",
    "\n",
    "import seaborn as sns\n",
    "import matplotlib.pyplot as plt\n",
    "from matplotlib.gridspec import GridSpec\n",
    "from matplotlib.patches import Rectangle\n",
    "plt.rcParams[\"figure.dpi\"] = 100"
   ]
  },
  {
   "cell_type": "markdown",
   "id": "a87eacef",
   "metadata": {},
   "source": [
    "## Functions"
   ]
  },
  {
   "cell_type": "code",
   "execution_count": 2,
   "id": "1ef06451",
   "metadata": {},
   "outputs": [],
   "source": [
    "@dataclass\n",
    "class AlignmentPlotData:\n",
    "    read_id: str\n",
    "    ref_start: int\n",
    "    ref_end: int\n",
    "    ref_name: str\n",
    "    query_alignment_length: int\n",
    "    mean_qscore: float\n",
    "    forward: bool\n",
    "\n",
    "    @classmethod\n",
    "    def from_pysam_aligned_segment(cls, pysam_segment: pysam.AlignedSegment):\n",
    "        \"\"\"\n",
    "        Extract alignment data for plotting from an aligned `pysam` segment\n",
    "\n",
    "        \"\"\"\n",
    "        # Compute mean quality score\n",
    "        qscores = np.array(pysam_segment.query_qualities)\n",
    "        mean_qscore = qscores.mean() if qscores.shape else None\n",
    "\n",
    "        return cls(\n",
    "            read_id=pysam_segment.query_name,\n",
    "            ref_start=pysam_segment.reference_start,\n",
    "            ref_end=pysam_segment.reference_end,\n",
    "            ref_name=pysam_segment.reference_name,\n",
    "            query_alignment_length=pysam_segment.query_alignment_length,\n",
    "            mean_qscore=mean_qscore,\n",
    "            forward=pysam_segment.is_forward,\n",
    "        )"
   ]
  },
  {
   "cell_type": "code",
   "execution_count": 3,
   "id": "b054d83f",
   "metadata": {},
   "outputs": [],
   "source": [
    "def load_bam_info(bam_path):\n",
    "    with pysam.AlignmentFile(bam_path, \"r\") as bam:\n",
    "        bam_df = pd.DataFrame(\n",
    "            [\n",
    "                AlignmentPlotData.from_pysam_aligned_segment(alignment)\n",
    "                for alignment in bam\n",
    "            ]\n",
    "        )\n",
    "    return bam_df"
   ]
  },
  {
   "cell_type": "markdown",
   "id": "98b28eb7",
   "metadata": {},
   "source": [
    "## Settings"
   ]
  },
  {
   "cell_type": "code",
   "execution_count": 4,
   "id": "6ed0b007",
   "metadata": {},
   "outputs": [],
   "source": [
    "output_dir = \"figures/fig1_visualise-reads\"\n",
    "if not os.path.exists(output_dir):\n",
    "    os.makedirs(output_dir)"
   ]
  },
  {
   "cell_type": "markdown",
   "id": "3b1b1628",
   "metadata": {},
   "source": [
    "*General files*"
   ]
  },
  {
   "cell_type": "code",
   "execution_count": 5,
   "id": "d8ee29e7",
   "metadata": {},
   "outputs": [],
   "source": [
    "gff_path = \"../resources/plasmodb/52/PlasmoDB-52_Pfalciparum3D7.gff\"\n",
    "fasta_path = \"../resources/plasmodb/52/PlasmoDB-52_Pfalciparum3D7_Genome.fasta\""
   ]
  },
  {
   "cell_type": "markdown",
   "id": "5c434968",
   "metadata": {},
   "source": [
    "*Multiplexes*"
   ]
  },
  {
   "cell_type": "code",
   "execution_count": 6,
   "id": "f70efa54",
   "metadata": {},
   "outputs": [],
   "source": [
    "focus_barcode = 1\n",
    "\n",
    "# 8PLEX\n",
    "expt_dir8 = \"../experiments/2021-11-14_strain-validation-flongle-lfb\"\n",
    "bam_dir_n8 = f\"{expt_dir8}/nomadic/guppy/hac/single_end/barcodes/barcode{focus_barcode:02d}/target-extraction\"\n",
    "\n",
    "# 16PLEX\n",
    "# BAM information\n",
    "expt_dir16 = \"../experiments/2021-11-20_strain-validation-16plex/\"\n",
    "bam_dir = f\"{expt_dir16}/nomadic/guppy/hac/single_end/barcodes/barcode{focus_barcode:02d}/target-extraction\"\n",
    "\n",
    "# Multiplex information\n",
    "mplx_primers = \"../resources/multiply/multiplexes/multiplex.03.16plex.good.greedy.csv\"\n",
    "mplx_amp = \"../resources/truthsets/stratifications/multiplex.03.16plex.good.greedy.full_amplicons.bed\"\n",
    "mplx_cds = \"../resources/truthsets/stratifications/multiplex.03.16plex.good.greedy.cds.bed\"\n"
   ]
  },
  {
   "cell_type": "markdown",
   "id": "10d39b23",
   "metadata": {},
   "source": [
    "## Load data"
   ]
  },
  {
   "cell_type": "markdown",
   "id": "5581a274",
   "metadata": {},
   "source": [
    "*General files*"
   ]
  },
  {
   "cell_type": "code",
   "execution_count": 7,
   "id": "d60599fd",
   "metadata": {},
   "outputs": [],
   "source": [
    "# Load GFF file\n",
    "gff = load_gff(gff_path)\n",
    "gff.rename({\"seqid\": \"seqname\"}, axis=1, inplace=True)"
   ]
  },
  {
   "cell_type": "markdown",
   "id": "83e245c4",
   "metadata": {},
   "source": [
    "*Primer information*\n",
    "- Only load 16plex, as 8plex is a subset of"
   ]
  },
  {
   "cell_type": "code",
   "execution_count": 8,
   "id": "68743933",
   "metadata": {},
   "outputs": [],
   "source": [
    "primer_df = pd.read_csv(mplx_primers)"
   ]
  },
  {
   "cell_type": "code",
   "execution_count": 9,
   "id": "eb217785",
   "metadata": {},
   "outputs": [],
   "source": [
    "name_to_id = dict(zip(primer_df[\"gene_name\"], primer_df[\"target\"]))\n",
    "name_to_id = {\n",
    "    k if k != \"MDR1part\" else \"MDR1\" : v\n",
    "    for k, v in name_to_id.items()\n",
    "}\n",
    "target_names = list(name_to_id.keys())\n",
    "id_to_name = {v: k for k, v in name_to_id.items()}"
   ]
  },
  {
   "cell_type": "code",
   "execution_count": 16,
   "id": "7a69349a",
   "metadata": {},
   "outputs": [],
   "source": [
    "target_names_n8 = [\n",
    "    \"CRT1\",\n",
    "    \"DHFR\",\n",
    "    \"DHPS\",\n",
    "    \"K13\",\n",
    "    \"MDR1\",\n",
    "    \"MSP2\",\n",
    "    \"PMI\",\n",
    "    \"PMIII\"\n",
    "]"
   ]
  },
  {
   "cell_type": "markdown",
   "id": "200241b4",
   "metadata": {},
   "source": [
    "*Amplicon sizes*"
   ]
  },
  {
   "cell_type": "code",
   "execution_count": 10,
   "id": "f0d04bf0",
   "metadata": {},
   "outputs": [],
   "source": [
    "# AMPLICON N16\n",
    "# Load\n",
    "mplx_amp_df = pd.read_csv(mplx_amp,\n",
    "                             sep=\"\\t\",\n",
    "                             names=[\"chrom\", \"start\", \"end\", \"target_id\"])\n",
    "\n",
    "# Annotate\n",
    "mplx_amp_df.insert(\n",
    "    3,\n",
    "    \"length\",\n",
    "    mplx_amp_df[\"end\"] - mplx_amp_df[\"start\"]\n",
    ")\n",
    "mplx_amp_df.insert(5, \"target_name\", [id_to_name[i] for i in mplx_amp_df[\"target_id\"]])\n",
    "mplx_amp_df[\"target_name\"] = [\n",
    "    t if t != \"MDR1part\" else \"MDR1\"\n",
    "    for t in mplx_amp_df[\"target_name\"]\n",
    "]\n",
    "\n",
    "# Sort\n",
    "mplx_amp_df.sort_values(\"target_name\", ascending=True, inplace=True)"
   ]
  },
  {
   "cell_type": "markdown",
   "id": "80231246",
   "metadata": {},
   "source": [
    "*Coding sequences*"
   ]
  },
  {
   "cell_type": "code",
   "execution_count": 11,
   "id": "6b2e15aa",
   "metadata": {},
   "outputs": [],
   "source": [
    "# CODING SEQUENCE FOR N16\n",
    "# Load\n",
    "mplx_cds_df = pd.read_csv(mplx_cds,\n",
    "                             sep=\"\\t\",\n",
    "                             names=[\"chrom\", \"start\", \"end\", \"exon_name\"])\n",
    "\n",
    "# Annotate\n",
    "mplx_cds_df.insert(\n",
    "    0,\n",
    "    \"target_id\",\n",
    "    [e.split(\".\")[0] for e in mplx_cds_df[\"exon_name\"]]\n",
    ")\n",
    "mplx_cds_df.insert(\n",
    "    3,\n",
    "    \"length\",\n",
    "    mplx_cds_df[\"end\"] - mplx_cds_df[\"start\"]\n",
    ")\n",
    "\n",
    "# Create summary\n",
    "mplx_cds_df = (mplx_cds_df\n",
    "                  .groupby(\"target_id\")\n",
    "                  .agg(\n",
    "                      cds_start=pd.NamedAgg(\"start\", min),\n",
    "                      cds_end=pd.NamedAgg(\"end\", max)\n",
    "                  )\n",
    "                  .reset_index()\n",
    "                 )\n",
    "mplx_cds_df.insert(\n",
    "    3,\n",
    "    \"length\",\n",
    "    mplx_cds_df[\"cds_end\"] - mplx_cds_df[\"cds_start\"]\n",
    ")\n",
    "mplx_cds_df.insert(\n",
    "    1,\n",
    "    \"target_name\",\n",
    "    [id_to_name[i] for i in mplx_cds_df[\"target_id\"]]\n",
    ")"
   ]
  },
  {
   "cell_type": "markdown",
   "id": "151248fd",
   "metadata": {},
   "source": [
    "*Sequence complexity information*"
   ]
  },
  {
   "cell_type": "code",
   "execution_count": 12,
   "id": "038dad08",
   "metadata": {},
   "outputs": [
    {
     "name": "stdout",
     "output_type": "stream",
     "text": [
      "Loading sequence complexity information...\n",
      "  Loaded sequence of 3774bp for MDR1...\n",
      "  Loaded sequence of 3721bp for MSP2...\n",
      "  Loaded sequence of 3464bp for DHFR...\n",
      "  Loaded sequence of 3875bp for CRT1...\n",
      "  Loaded sequence of 3657bp for DHPS...\n",
      "  Loaded sequence of 3827bp for K13...\n",
      "  Loaded sequence of 3102bp for PMI...\n",
      "  Loaded sequence of 3469bp for PMIII...\n",
      "  Loaded sequence of 3108bp for CSP...\n",
      "  Loaded sequence of 3367bp for HRP2up...\n",
      "  Loaded sequence of 3098bp for HRP2...\n",
      "  Loaded sequence of 3334bp for HRP2dwn...\n",
      "  Loaded sequence of 3139bp for AMA1...\n",
      "  Loaded sequence of 3067bp for HRP3up...\n",
      "  Loaded sequence of 3445bp for HRP3...\n",
      "  Loaded sequence of 3304bp for HRP3dwn...\n",
      "Done.\n"
     ]
    }
   ],
   "source": [
    "seq_comp = {\n",
    "    \"target_name\": [],\n",
    "    \"per_at\": [],\n",
    "    \"hp_runs\": []\n",
    "}\n",
    "print(\"Loading sequence complexity information...\")\n",
    "for target_name in target_names:\n",
    "    # Extract region\n",
    "    #target_id = name_to_id[target_name]\n",
    "    r = mplx_amp_df.query(\"target_name == @target_name\").squeeze()\n",
    "    region = f\"{r['chrom']}:{r['start']}-{r['end']}\"\n",
    "    \n",
    "    # Load sequence\n",
    "    seq = load_haplotype_from_fasta(fasta_path, region=region)\n",
    "    print(f\"  Loaded sequence of {len(seq)}bp for {target_name}...\")\n",
    "    \n",
    "    # Compute summary statistics\n",
    "    hp_runs = get_homopolymer_runs(seq)\n",
    "    per_at = 1 - calc_sliding_percentGC(seq, window=20)\n",
    "    N_bp = hp_runs.shape[0]\n",
    "    \n",
    "    # Store\n",
    "    seq_comp[\"target_name\"].extend([target_name]*N_bp)\n",
    "    seq_comp[\"per_at\"].extend(per_at.tolist())\n",
    "    seq_comp[\"hp_runs\"].extend(hp_runs.tolist())\n",
    "seq_comp_df = pd.DataFrame(seq_comp)\n",
    "seq_comp_df.sort_values(\"target_name\", ascending=True, inplace=True)\n",
    "print(\"Done.\")"
   ]
  },
  {
   "cell_type": "code",
   "execution_count": 13,
   "id": "800ac4af",
   "metadata": {},
   "outputs": [],
   "source": [
    "# Create a homopolymer summary data frame\n",
    "hp_df = \\\n",
    "(seq_comp_df\n",
    " .groupby(\"target_name\")\n",
    " .agg(\n",
    "     n = pd.NamedAgg(\"hp_runs\", len),\n",
    "     hp_3 = pd.NamedAgg(\"hp_runs\", lambda x: sum(x >= 3)/len(x)),\n",
    "     hp_4 = pd.NamedAgg(\"hp_runs\", lambda x: sum(x >= 4)/len(x)),\n",
    "     hp_5 = pd.NamedAgg(\"hp_runs\", lambda x: sum(x >= 5)/len(x)),\n",
    "     hp_6 = pd.NamedAgg(\"hp_runs\", lambda x: sum(x >= 6)/len(x)), \n",
    "     hp_9 = pd.NamedAgg(\"hp_runs\", lambda x: sum(x >= 9)/len(x)), \n",
    " )\n",
    " .reset_index()\n",
    ")\n",
    "hp_df.sort_values(\"target_name\", ascending=True, inplace=True)"
   ]
  },
  {
   "cell_type": "markdown",
   "id": "68d20037",
   "metadata": {},
   "source": [
    "### Load read lengths from BAM"
   ]
  },
  {
   "cell_type": "markdown",
   "id": "e8d38410",
   "metadata": {},
   "source": [
    "*8plex*"
   ]
  },
  {
   "cell_type": "code",
   "execution_count": 19,
   "id": "990b5c2e",
   "metadata": {},
   "outputs": [
    {
     "name": "stdout",
     "output_type": "stream",
     "text": [
      "  Loaded 246 reads for CRT1...\n",
      "  Loaded 1565 reads for DHFR...\n",
      "  Loaded 1507 reads for DHPS...\n",
      "  Loaded 1941 reads for K13...\n",
      "  Loaded 1984 reads for MDR1...\n",
      "  Loaded 635 reads for MSP2...\n",
      "  Loaded 828 reads for PMI...\n",
      "  Loaded 636 reads for PMIII...\n",
      "Done.\n"
     ]
    }
   ],
   "source": [
    "bam_dfs = []\n",
    "target_overlaps_n8 = {}\n",
    "for target_name in target_names_n8:\n",
    "    # Load BAM file\n",
    "    bam_path = f\"{bam_dir_n8}/reads.target.{target_name}.bam\"\n",
    "    bam_df = load_bam_info(bam_path)\n",
    "    \n",
    "    # Annotate\n",
    "    bam_df.insert(0, \"target_name\", target_name)\n",
    "    \n",
    "    # Store\n",
    "    print(f\"  Loaded {bam_df.shape[0]} reads for {target_name}...\")\n",
    "    bam_dfs.append(bam_df)\n",
    "    \n",
    "    # Compute number of reads overlapping ORF\n",
    "    target_info = mplx_cds_df.query(\"target_name == @target_name\").squeeze()\n",
    "    left_outside = bam_df[\"ref_start\"] <= target_info[\"cds_start\"]\n",
    "    right_outside = bam_df[\"ref_end\"] >= target_info[\"cds_end\"]\n",
    "    outside = left_outside & right_outside\n",
    "    per_overlap = 100 * outside.sum() / outside.shape[0]\n",
    "    target_overlaps_n8[target_name] = per_overlap\n",
    "    \n",
    "bam_n8_df = pd.concat(bam_dfs)\n",
    "bam_n8_df.sort_values(\"target_name\", ascending=True, inplace=True)\n",
    "print(\"Done.\")"
   ]
  },
  {
   "cell_type": "markdown",
   "id": "f3ce7b8f",
   "metadata": {},
   "source": [
    "*16plex*"
   ]
  },
  {
   "cell_type": "code",
   "execution_count": 20,
   "id": "da3c51d9",
   "metadata": {},
   "outputs": [
    {
     "name": "stderr",
     "output_type": "stream",
     "text": [
      "[E::idx_find_and_load] Could not retrieve index file for '../experiments/2021-11-20_strain-validation-16plex//nomadic/guppy/hac/single_end/barcodes/barcode01/target-extraction/reads.target.MDR1.bam'\n",
      "[E::idx_find_and_load] Could not retrieve index file for '../experiments/2021-11-20_strain-validation-16plex//nomadic/guppy/hac/single_end/barcodes/barcode01/target-extraction/reads.target.MSP2.bam'\n"
     ]
    },
    {
     "name": "stdout",
     "output_type": "stream",
     "text": [
      "  Loaded 3543 reads for MDR1...\n",
      "  Loaded 2316 reads for MSP2...\n"
     ]
    },
    {
     "name": "stderr",
     "output_type": "stream",
     "text": [
      "[E::idx_find_and_load] Could not retrieve index file for '../experiments/2021-11-20_strain-validation-16plex//nomadic/guppy/hac/single_end/barcodes/barcode01/target-extraction/reads.target.DHFR.bam'\n"
     ]
    },
    {
     "name": "stdout",
     "output_type": "stream",
     "text": [
      "  Loaded 5115 reads for DHFR...\n",
      "  Loaded 239 reads for CRT1...\n",
      "  Loaded 1710 reads for DHPS...\n"
     ]
    },
    {
     "name": "stderr",
     "output_type": "stream",
     "text": [
      "[E::idx_find_and_load] Could not retrieve index file for '../experiments/2021-11-20_strain-validation-16plex//nomadic/guppy/hac/single_end/barcodes/barcode01/target-extraction/reads.target.CRT1.bam'\n",
      "[E::idx_find_and_load] Could not retrieve index file for '../experiments/2021-11-20_strain-validation-16plex//nomadic/guppy/hac/single_end/barcodes/barcode01/target-extraction/reads.target.DHPS.bam'\n",
      "[E::idx_find_and_load] Could not retrieve index file for '../experiments/2021-11-20_strain-validation-16plex//nomadic/guppy/hac/single_end/barcodes/barcode01/target-extraction/reads.target.K13.bam'\n"
     ]
    },
    {
     "name": "stdout",
     "output_type": "stream",
     "text": [
      "  Loaded 2951 reads for K13...\n",
      "  Loaded 241 reads for PMI...\n",
      "  Loaded 1976 reads for PMIII...\n"
     ]
    },
    {
     "name": "stderr",
     "output_type": "stream",
     "text": [
      "[E::idx_find_and_load] Could not retrieve index file for '../experiments/2021-11-20_strain-validation-16plex//nomadic/guppy/hac/single_end/barcodes/barcode01/target-extraction/reads.target.PMI.bam'\n",
      "[E::idx_find_and_load] Could not retrieve index file for '../experiments/2021-11-20_strain-validation-16plex//nomadic/guppy/hac/single_end/barcodes/barcode01/target-extraction/reads.target.PMIII.bam'\n",
      "[E::idx_find_and_load] Could not retrieve index file for '../experiments/2021-11-20_strain-validation-16plex//nomadic/guppy/hac/single_end/barcodes/barcode01/target-extraction/reads.target.CSP.bam'\n"
     ]
    },
    {
     "name": "stdout",
     "output_type": "stream",
     "text": [
      "  Loaded 1667 reads for CSP...\n",
      "  Loaded 1118 reads for HRP2up...\n",
      "  Loaded 313 reads for HRP2...\n"
     ]
    },
    {
     "name": "stderr",
     "output_type": "stream",
     "text": [
      "[E::idx_find_and_load] Could not retrieve index file for '../experiments/2021-11-20_strain-validation-16plex//nomadic/guppy/hac/single_end/barcodes/barcode01/target-extraction/reads.target.HRP2up.bam'\n",
      "[E::idx_find_and_load] Could not retrieve index file for '../experiments/2021-11-20_strain-validation-16plex//nomadic/guppy/hac/single_end/barcodes/barcode01/target-extraction/reads.target.HRP2.bam'\n",
      "[E::idx_find_and_load] Could not retrieve index file for '../experiments/2021-11-20_strain-validation-16plex//nomadic/guppy/hac/single_end/barcodes/barcode01/target-extraction/reads.target.HRP2dwn.bam'\n"
     ]
    },
    {
     "name": "stdout",
     "output_type": "stream",
     "text": [
      "  Loaded 2239 reads for HRP2dwn...\n",
      "  Loaded 1140 reads for AMA1...\n",
      "  Loaded 51 reads for HRP3up...\n",
      "  Loaded 569 reads for HRP3...\n",
      "  Loaded 211 reads for HRP3dwn...\n",
      "Done.\n"
     ]
    },
    {
     "name": "stderr",
     "output_type": "stream",
     "text": [
      "[E::idx_find_and_load] Could not retrieve index file for '../experiments/2021-11-20_strain-validation-16plex//nomadic/guppy/hac/single_end/barcodes/barcode01/target-extraction/reads.target.AMA1.bam'\n",
      "[E::idx_find_and_load] Could not retrieve index file for '../experiments/2021-11-20_strain-validation-16plex//nomadic/guppy/hac/single_end/barcodes/barcode01/target-extraction/reads.target.HRP3up.bam'\n",
      "[E::idx_find_and_load] Could not retrieve index file for '../experiments/2021-11-20_strain-validation-16plex//nomadic/guppy/hac/single_end/barcodes/barcode01/target-extraction/reads.target.HRP3.bam'\n",
      "[E::idx_find_and_load] Could not retrieve index file for '../experiments/2021-11-20_strain-validation-16plex//nomadic/guppy/hac/single_end/barcodes/barcode01/target-extraction/reads.target.HRP3dwn.bam'\n"
     ]
    }
   ],
   "source": [
    "bam_dfs = []\n",
    "target_overlaps = {}\n",
    "for target_name in name_to_id:\n",
    "    # Load BAM file\n",
    "    bam_path = f\"{bam_dir}/reads.target.{target_name}.bam\"\n",
    "    bam_df = load_bam_info(bam_path)\n",
    "    \n",
    "    # Annotate\n",
    "    bam_df.insert(0, \"target_name\", target_name)\n",
    "    \n",
    "    # Store\n",
    "    print(f\"  Loaded {bam_df.shape[0]} reads for {target_name}...\")\n",
    "    bam_dfs.append(bam_df)\n",
    "    \n",
    "    # Compute number of reads overlapping ORF\n",
    "    target_info = mplx_cds_df.query(\"target_name == @target_name\").squeeze()\n",
    "    left_outside = bam_df[\"ref_start\"] <= target_info[\"cds_start\"]\n",
    "    right_outside = bam_df[\"ref_end\"] >= target_info[\"cds_end\"]\n",
    "    outside = left_outside & right_outside\n",
    "    per_overlap = 100 * outside.sum() / outside.shape[0]\n",
    "    target_overlaps[target_name] = per_overlap\n",
    "    \n",
    "bam_n16_df = pd.concat(bam_dfs)\n",
    "bam_n16_df.sort_values(\"target_name\", ascending=True, inplace=True)\n",
    "print(\"Done.\")"
   ]
  },
  {
   "cell_type": "markdown",
   "id": "b99a720c",
   "metadata": {},
   "source": [
    "## Plot"
   ]
  },
  {
   "cell_type": "markdown",
   "id": "f2b18f2b",
   "metadata": {},
   "source": [
    "*Ordering*"
   ]
  },
  {
   "cell_type": "code",
   "execution_count": 28,
   "id": "2d6f4991",
   "metadata": {},
   "outputs": [],
   "source": [
    "NOMADS8_ORDER = [\n",
    "    \"CRT1\",\n",
    "    \"DHFR\",\n",
    "    \"DHPS\",\n",
    "    \"K13\",\n",
    "    \"MDR1\",\n",
    "    \"MSP2\",\n",
    "    \"PMI\",\n",
    "    \"PMIII\"\n",
    "]\n",
    "NOMADS16_ORDER = NOMADS8_ORDER + [\n",
    "    \"AMA1\",\n",
    "    \"CSP\",\n",
    "    \"HRP2up\",\n",
    "    \"HRP2\",\n",
    "    \"HRP2dwn\",\n",
    "    \"HRP3up\",\n",
    "    \"HRP3\",\n",
    "    \"HRP3dwn\"\n",
    "]"
   ]
  },
  {
   "cell_type": "code",
   "execution_count": 29,
   "id": "adf46d73",
   "metadata": {},
   "outputs": [],
   "source": [
    "mplx_amp_df[\"target_name\"] = pd.Categorical(\n",
    "    values=mplx_amp_df[\"target_name\"],\n",
    "    categories=NOMADS16_ORDER,\n",
    "    ordered=True\n",
    ")"
   ]
  },
  {
   "cell_type": "code",
   "execution_count": 87,
   "id": "05c11bca",
   "metadata": {},
   "outputs": [],
   "source": [
    "mplx_cds_df[\"target_name\"] = pd.Categorical(\n",
    "    values=mplx_cds_df[\"target_name\"],\n",
    "    categories=NOMADS16_ORDER,\n",
    "    ordered=True\n",
    ")"
   ]
  },
  {
   "cell_type": "code",
   "execution_count": 88,
   "id": "cb276d0e",
   "metadata": {},
   "outputs": [
    {
     "name": "stderr",
     "output_type": "stream",
     "text": [
      "/Users/jasongms/opt/anaconda3/envs/nomadic2/lib/python3.7/site-packages/ipykernel_launcher.py:5: SettingWithCopyWarning: \n",
      "A value is trying to be set on a copy of a slice from a DataFrame.\n",
      "Try using .loc[row_indexer,col_indexer] = value instead\n",
      "\n",
      "See the caveats in the documentation: https://pandas.pydata.org/pandas-docs/stable/user_guide/indexing.html#returning-a-view-versus-a-copy\n",
      "  \"\"\"\n"
     ]
    }
   ],
   "source": [
    "mplx_cds_n8_df = mplx_cds_df.query(\"target_name in @NOMADS8_ORDER\")\n",
    "mplx_cds_n8_df[\"target_name\"] = pd.Categorical(\n",
    "    values=mplx_cds_n8_df[\"target_name\"],\n",
    "    categories=NOMADS8_ORDER,\n",
    "    ordered=True\n",
    ")"
   ]
  },
  {
   "cell_type": "code",
   "execution_count": 89,
   "id": "aa35a12a",
   "metadata": {},
   "outputs": [],
   "source": [
    "bam_n8_df[\"target_name\"] = pd.Categorical(\n",
    "    values=bam_n8_df[\"target_name\"],\n",
    "    categories=NOMADS8_ORDER,\n",
    "    ordered=True\n",
    ")\n",
    "bam_n8_df.sort_values(\"target_name\", inplace=True)"
   ]
  },
  {
   "cell_type": "code",
   "execution_count": 90,
   "id": "0fa89cd7",
   "metadata": {},
   "outputs": [],
   "source": [
    "bam_n16_df[\"target_name\"] = pd.Categorical(\n",
    "    values=bam_n16_df[\"target_name\"],\n",
    "    categories=NOMADS16_ORDER,\n",
    "    ordered=True\n",
    ")\n",
    "bam_n16_df.sort_values(\"target_name\", inplace=True)"
   ]
  },
  {
   "cell_type": "code",
   "execution_count": 91,
   "id": "3863c07a",
   "metadata": {},
   "outputs": [],
   "source": [
    "hp_df[\"target_name\"] = pd.Categorical(\n",
    "    values=hp_df[\"target_name\"],\n",
    "    categories=NOMADS16_ORDER,\n",
    "    ordered=True\n",
    ")\n",
    "hp_df.sort_values(\"target_name\", inplace=True)"
   ]
  },
  {
   "cell_type": "code",
   "execution_count": 92,
   "id": "f778f37a",
   "metadata": {},
   "outputs": [],
   "source": [
    "seq_comp_df[\"target_name\"] = pd.Categorical(\n",
    "    values=seq_comp_df[\"target_name\"],\n",
    "    categories=NOMADS16_ORDER,\n",
    "    ordered=True\n",
    ")\n",
    "seq_comp_df.sort_values(\"target_name\", inplace=True)"
   ]
  },
  {
   "cell_type": "markdown",
   "id": "5faf3b53",
   "metadata": {},
   "source": [
    "*Colors*\n",
    "- I would want this to stay consistent across the manuscript"
   ]
  },
  {
   "cell_type": "code",
   "execution_count": 93,
   "id": "f1cf088f",
   "metadata": {},
   "outputs": [],
   "source": [
    "COLS = sns.color_palette(\"viridis\", 8) + sns.color_palette(\"inferno\", 8)"
   ]
  },
  {
   "cell_type": "markdown",
   "id": "588d2471",
   "metadata": {},
   "source": [
    "*Main plot*"
   ]
  },
  {
   "cell_type": "code",
   "execution_count": 110,
   "id": "b0ba2171",
   "metadata": {},
   "outputs": [
    {
     "name": "stderr",
     "output_type": "stream",
     "text": [
      "/Users/jasongms/opt/anaconda3/envs/nomadic2/lib/python3.7/site-packages/ipykernel_launcher.py:35: FutureWarning: Passing `palette` without assigning `hue` is deprecated.\n",
      "/Users/jasongms/opt/anaconda3/envs/nomadic2/lib/python3.7/site-packages/ipykernel_launcher.py:112: FutureWarning: Passing `palette` without assigning `hue` is deprecated.\n"
     ]
    },
    {
     "data": {
      "image/png": "[encoded data removed]",
      "text/plain": [
       "<Figure size 700x500 with 4 Axes>"
      ]
     },
     "metadata": {},
     "output_type": "display_data"
    }
   ],
   "source": [
    "# Size figure\n",
    "width = 7\n",
    "height = 5\n",
    "fig = plt.figure(figsize=(width, height))\n",
    "fig.subplots_adjust(hspace=0.5)\n",
    "\n",
    "\n",
    "# Prepare grid\n",
    "gs = GridSpec(nrows=20, ncols=10)\n",
    "\n",
    "ax_rl_8 = plt.subplot(gs[0:8, :5])\n",
    "ax_rl_16 = plt.subplot(gs[8:16, :])\n",
    "ax_at = plt.subplot(gs[16:20, :], sharex=ax_rl_16)\n",
    "#ax_hp = plt.subplot(gs[16:20, :], sharex=ax_rl)\n",
    "\n",
    "\n",
    "# ----------------------------------------\n",
    "# READ LENGHTS\n",
    "# ----------------------------------------\n",
    "RL_YLIMS = np.array([0, 5000])\n",
    "add_lines = True\n",
    "add_amplicons = True\n",
    "add_per_annotations = True\n",
    "RESCALE=10**3\n",
    "\n",
    "# 8PLEX\n",
    "ax = ax_rl_8\n",
    "# Plot\n",
    "sns.stripplot(\n",
    "    x=bam_n8_df[\"target_name\"],\n",
    "    y=bam_n8_df[\"query_alignment_length\"]/RESCALE,\n",
    "    palette=COLS[:8],\n",
    "    jitter=0.25,\n",
    "    s=0.7,\n",
    "    ax=ax\n",
    ")\n",
    "\n",
    "# Limits\n",
    "ax.set_ylim(RL_YLIMS/RESCALE)\n",
    "\n",
    "# Lines\n",
    "if add_lines:\n",
    "    ax.set_axisbelow(True)\n",
    "    line_args = {\"zorder\": -10, \n",
    "                 \"color\": \"grey\", \n",
    "                 \"lw\": 0.75,\n",
    "                 \"linestyle\": \"dotted\"}\n",
    "    ax.axhline(y=3000/RESCALE, **line_args)\n",
    "    ax.axhline(y=4000/RESCALE, **line_args)\n",
    "\n",
    "# Ticks\n",
    "ax.tick_params(\n",
    "    which='both',\n",
    "    direction='in',\n",
    "    labelbottom=False\n",
    ")\n",
    "ax.yaxis.set_minor_locator(plt.MultipleLocator(500/RESCALE))\n",
    "\n",
    "# Labels\n",
    "ax.set_ylabel(\"Read Length (kbp)\")\n",
    "\n",
    "# Amplicons\n",
    "if add_amplicons:\n",
    "    box_wd = 0.2\n",
    "    for ix, target_name in enumerate(NOMADS8_ORDER):\n",
    "        amp_length = mplx_amp_df.query(\"target_name == @target_name\").squeeze()[\"length\"]\n",
    "        cds_length = mplx_cds_df.query(\"target_name == @target_name\").squeeze()[\"length\"]\n",
    "        height = amp_length - cds_length\n",
    "        rectangle = Rectangle(\n",
    "            xy=(ix-0.2, cds_length/RESCALE),\n",
    "            width=0.2*2,\n",
    "            height=height/RESCALE,\n",
    "            ec=\"black\",\n",
    "            fc=\"lightgrey\",\n",
    "            alpha=0.5,\n",
    "            lw=0.75\n",
    "        )\n",
    "        ax.add_artist(rectangle)\n",
    "        \n",
    "    # CDS\n",
    "    ax.scatter(\n",
    "        x=mplx_cds_n8_df[\"target_name\"],\n",
    "        y=mplx_cds_n8_df[\"length\"]/RESCALE,\n",
    "        marker=\"^\",\n",
    "        color=\"darkgrey\",\n",
    "        s=30,\n",
    "        zorder=10,\n",
    "        label=\"ORF\"\n",
    "    )\n",
    "    \n",
    "# Annotate\n",
    "if add_per_annotations:\n",
    "    for ix, target_name in enumerate(NOMADS8_ORDER):\n",
    "        per = target_overlaps_n8[target_name]\n",
    "        ax.annotate(\n",
    "            xy=(ix, ax.get_ylim()[1]),\n",
    "            ha=\"center\", va=\"bottom\",\n",
    "            rotation=90,\n",
    "            text=f\" {per:.0f}%\"\n",
    "        )\n",
    "\n",
    "\n",
    "# 16PLEX\n",
    "ax = ax_rl_16\n",
    "# Plot\n",
    "sns.stripplot(\n",
    "    x=bam_n16_df[\"target_name\"],\n",
    "    y=bam_n16_df[\"query_alignment_length\"]/RESCALE,\n",
    "    palette=COLS,\n",
    "    jitter=0.25,\n",
    "    s=0.7,\n",
    "    ax=ax\n",
    ")\n",
    "\n",
    "# Limits\n",
    "ax.set_ylim(RL_YLIMS/RESCALE)\n",
    "\n",
    "# Lines\n",
    "if add_lines:\n",
    "    ax.set_axisbelow(True) \n",
    "    ax.axhline(y=3000/RESCALE, **line_args)\n",
    "    ax.axhline(y=4000/RESCALE, **line_args)\n",
    "\n",
    "# Ticks\n",
    "ax.tick_params(\n",
    "    which='both',\n",
    "    direction='in',\n",
    "    labelbottom=False\n",
    ")\n",
    "ax.yaxis.set_minor_locator(plt.MultipleLocator(500/RESCALE))\n",
    "\n",
    "# Labels\n",
    "ax.set_ylabel(\"Read Length (kbp)\")\n",
    "\n",
    "# Amplicons\n",
    "if add_amplicons:\n",
    "    box_wd = 0.2\n",
    "    for ix, target_name in enumerate(NOMADS16_ORDER):\n",
    "        amp_length = mplx_amp_df.query(\"target_name == @target_name\").squeeze()[\"length\"]\n",
    "        cds_length = mplx_cds_df.query(\"target_name == @target_name\").squeeze()[\"length\"]\n",
    "        height = amp_length - cds_length\n",
    "        rectangle = Rectangle(\n",
    "            xy=(ix-0.2, cds_length/RESCALE),\n",
    "            width=0.2*2,\n",
    "            height=height/RESCALE,\n",
    "            ec=\"black\",\n",
    "            fc=\"lightgrey\",\n",
    "            alpha=0.5,\n",
    "            lw=0.75\n",
    "        )\n",
    "        ax.add_artist(rectangle)\n",
    "        \n",
    "    # CDS\n",
    "    ax.scatter(\n",
    "        x=mplx_cds_df[\"target_name\"],\n",
    "        y=mplx_cds_df[\"length\"]/RESCALE,\n",
    "        marker=\"^\",\n",
    "        color=\"darkgrey\",\n",
    "        s=30,\n",
    "        zorder=10,\n",
    "        label=\"ORF\"\n",
    "    )\n",
    "\n",
    "# Annotate\n",
    "if add_per_annotations:\n",
    "    for ix, target_name in enumerate(NOMADS16_ORDER):\n",
    "        per = target_overlaps[target_name]\n",
    "        ax.annotate(\n",
    "            xy=(ix, ax.get_ylim()[1]),\n",
    "            ha=\"center\", va=\"bottom\",\n",
    "            rotation=90,\n",
    "            text=f\" {per:.0f}%\"\n",
    "        )\n",
    "    \n",
    "    \n",
    "\n",
    "# ----------------------------------------\n",
    "# Sequence Complexity\n",
    "# ----------------------------------------\n",
    "# AT PERCENTAGE\n",
    "ax = ax_at\n",
    "# Plot\n",
    "sns.boxplot(\n",
    "    x=seq_comp_df[\"target_name\"],\n",
    "    y=seq_comp_df[\"per_at\"]*100,\n",
    "    palette=COLS,\n",
    "    width=0.5,\n",
    "    showfliers=False,\n",
    "    linewidth=0.75,\n",
    "    ax=ax,\n",
    ")\n",
    "\n",
    "# Limit\n",
    "ax.set_ylim((0, 100))\n",
    "ax.set_ylabel(\"Complexity (%)\")\n",
    "\n",
    "\n",
    "# HOMOPOLYMERS\n",
    "ax_hp = ax.twinx()\n",
    "# Plot\n",
    "szs = [3, 6, 9]\n",
    "for sz in szs:\n",
    "    ax.scatter(\n",
    "        x=hp_df[\"target_name\"],\n",
    "        y=hp_df[f\"hp_{sz}\"]*100,\n",
    "        s=sz*10,\n",
    "        fc=[c + (0.1,) for c in COLS],\n",
    "        ec=COLS,\n",
    "        lw=1,\n",
    "        label=f\">{sz}bp\"\n",
    "    )\n",
    "    ax.scatter(\n",
    "        x=hp_df[\"target_name\"],\n",
    "        y=hp_df[f\"hp_{sz}\"]*100,\n",
    "        marker=\".\",\n",
    "        s=2,\n",
    "        c=COLS,\n",
    "        lw=1\n",
    "    )\n",
    "    \n",
    "# Limits\n",
    "ax.set_ylim((0, 100))\n",
    "\n",
    "# Labels\n",
    "ax.set_xlabel(\"\")\n",
    "\n",
    "\n",
    "# Ticks\n",
    "ax.yaxis.set_minor_locator(plt.MultipleLocator(25))\n",
    "# y\n",
    "ax.tick_params(\n",
    "    which='both',\n",
    "    axis='y',\n",
    "    direction='in',\n",
    "    labelright=False,\n",
    ")\n",
    "# x\n",
    "ax.tick_params(\n",
    "    axis='x',\n",
    "    direction='out',\n",
    "    labelbottom=True,\n",
    "    rotation=90\n",
    ")\n",
    "\n",
    "    \n",
    "    \n",
    "# ----------------------------------------\n",
    "# Save\n",
    "# ----------------------------------------\n",
    "fig.savefig(f\"{output_dir}/summary_stats.n8.n16.box.pdf\", \n",
    "            dpi=300, bbox_inches=\"tight\",\n",
    "            pad_inches=0.5)"
   ]
  },
  {
   "cell_type": "markdown",
   "id": "a259d57e",
   "metadata": {},
   "source": [
    "TODO\n",
    "- Remove x tick labels"
   ]
  },
  {
   "cell_type": "code",
   "execution_count": null,
   "id": "9dd2352d",
   "metadata": {},
   "outputs": [],
   "source": [
    "# Size figure\n",
    "width = 6\n",
    "height = 4\n",
    "fig = plt.figure(figsize=(width, height))\n",
    "fig.subplots_adjust(hspace=0.15)\n",
    "\n",
    "# Prepare grid\n",
    "gs = GridSpec(nrows=20, ncols=1)\n",
    "ax_rl = plt.subplot(gs[0:12])\n",
    "ax_at = plt.subplot(gs[12:16], sharex=ax_rl)\n",
    "ax_hp = plt.subplot(gs[16:20], sharex=ax_rl)\n",
    "\n",
    "# READ LENGTHS\n",
    "ax = ax_rl\n",
    "# Plot\n",
    "sns.stripplot(\n",
    "    x=bam_df[\"target_name\"],\n",
    "    y=bam_df[\"query_alignment_length\"],\n",
    "    palette=COLS,\n",
    "    jitter=0.25,\n",
    "    s=0.7,\n",
    "    ax=ax\n",
    ")\n",
    "# Amplicons\n",
    "box_wd = 0.2\n",
    "for ix, target_name in enumerate(mplx_amp_df[\"target_name\"]):\n",
    "    amp_length = mplx_amp_df.query(\"target_name == @target_name\").squeeze()[\"length\"]\n",
    "    cds_length = mplx_cds_df.query(\"target_name == @target_name\").squeeze()[\"length\"]\n",
    "    height = amp_length - cds_length\n",
    "    rectangle = Rectangle(\n",
    "        xy=(ix-0.2, cds_length),\n",
    "        width=0.2*2,\n",
    "        height=height,\n",
    "        ec=\"black\",\n",
    "        fc=\"lightgrey\",\n",
    "        alpha=0.5,\n",
    "        lw=0.75\n",
    "    )\n",
    "    ax.add_artist(rectangle)\n",
    "# CDS\n",
    "ax.scatter(\n",
    "    x=mplx_cds_df[\"target_name\"],\n",
    "    y=mplx_cds_df[\"length\"],\n",
    "    marker=\"o\",\n",
    "    color=\"darkgrey\",\n",
    "    s=20,\n",
    "    zorder=3,\n",
    "    label=\"ORF\"\n",
    ")\n",
    "ax.set_xticklabels([])\n",
    "    \n",
    "\n",
    "\n",
    "# ax.scatter(\n",
    "#     x=mplx_amp_df[\"target_name\"],\n",
    "#     y=mplx_amp_df[\"length\"],\n",
    "#     marker=\"v\",\n",
    "#     lw=1,\n",
    "#     color=\"black\",\n",
    "#     s=20,\n",
    "#     zorder=-3,\n",
    "#     label=\"Amplicon\"\n",
    "# )\n",
    "# # CDS\n",
    "# ax.scatter(\n",
    "#     x=mplx_cds_df[\"target_name\"],\n",
    "#     y=mplx_cds_df[\"length\"],\n",
    "#     marker=\"o\",\n",
    "#     color=\"black\",\n",
    "#     s=20,\n",
    "#     zorder=-3,\n",
    "#     label=\"ORF\"\n",
    "# )\n",
    "# ax.legend(bbox_to_anchor=(1, 1), loc=\"upper left\", title=\"Length (bp)\")\n",
    "\n",
    "\n",
    "\n",
    "# Limits\n",
    "ax.set_ylim((0, 5000))\n",
    "\n",
    "# Ticks\n",
    "ax.yaxis.set_minor_locator(plt.MultipleLocator(500))\n",
    "\n",
    "# Lines\n",
    "ax.set_axisbelow(True) \n",
    "ax.axhline(y=3000, zorder=-10, color='grey', lw=0.75)\n",
    "ax.axhline(y=4000, zorder=-10, color='grey', lw=0.75)\n",
    "ax.grid(axis='y', ls='dotted', which='both')\n",
    "\n",
    "# Label\n",
    "ax.yaxis.set_major_formatter(plt.FuncFormatter(lambda val, ix: int(val) if val != 0 else None))\n",
    "ax.set_ylabel(\"Read Length (bp)\")\n",
    "\n",
    "# Annotate\n",
    "for ix, target_name in enumerate(mplx_amp_df[\"target_name\"]):\n",
    "    per = target_overlaps[target_name]\n",
    "    ax.annotate(\n",
    "        xy=(ix, ax.get_ylim()[1]),\n",
    "        ha=\"center\", va=\"bottom\",\n",
    "        rotation=90,\n",
    "        text=f\" {per:.0f}%\"\n",
    "    )\n",
    "\n",
    "\n",
    "# AT PERCENTAGE\n",
    "ax = ax_at\n",
    "# Plot\n",
    "sns.boxplot(\n",
    "    x=seq_comp_df[\"target_name\"],\n",
    "    y=seq_comp_df[\"per_at\"],\n",
    "    palette=COLS,\n",
    "    width=0.5,\n",
    "    showfliers=False,\n",
    "    linewidth=0.75,\n",
    "    ax=ax\n",
    ")\n",
    "#ax.set_xticklabels([])\n",
    "\n",
    "# Limit\n",
    "ax.set_ylim((0, 1.0))\n",
    "\n",
    "# Lines\n",
    "ax.yaxis.set_minor_locator(plt.MultipleLocator(0.1))\n",
    "ax.yaxis.set_major_locator(plt.MultipleLocator(0.2))\n",
    "ax.set_axisbelow(True) \n",
    "ax.grid(ls='dotted', axis='y')\n",
    "\n",
    "# Labels\n",
    "ax.yaxis.set_major_formatter(plt.FuncFormatter(lambda val, ix: int(100*val) if val != 0 else None))\n",
    "ax.set_ylabel(\"AT (%)\")\n",
    "\n",
    "# HP STATISTICS\n",
    "ax = ax_hp\n",
    "# Plot\n",
    "szs = [3, 6, 9]\n",
    "for sz in szs:\n",
    "    ax.scatter(\n",
    "        x=hp_df[\"target_name\"],\n",
    "        y=hp_df[f\"hp_{sz}\"],\n",
    "        s=sz*10,\n",
    "        fc=[c + (0.1,) for c in COLS],\n",
    "        ec=COLS,\n",
    "        lw=1,\n",
    "        label=f\">{sz}bp\"\n",
    "    )\n",
    "    ax.scatter(\n",
    "        x=hp_df[\"target_name\"],\n",
    "        y=hp_df[f\"hp_{sz}\"],\n",
    "        marker=\".\",\n",
    "        s=2,\n",
    "        c=COLS,\n",
    "        lw=1\n",
    "    )\n",
    "\n",
    "# Limit\n",
    "ax.set_ylim((0, 0.4))\n",
    "plt.tick_params(axis=\"x\", rotation=90)\n",
    "#ax.set_xticklabels(ax.get_xticklabels(), rotation=90)\n",
    "\n",
    "# Lines\n",
    "ax.yaxis.set_minor_locator(plt.MultipleLocator(0.05))\n",
    "ax.yaxis.set_major_locator(plt.MultipleLocator(0.1))\n",
    "ax.set_axisbelow(True) \n",
    "ax.grid(ls='dotted', axis='y')\n",
    "\n",
    "# Label\n",
    "ax.yaxis.set_major_formatter(plt.FuncFormatter(lambda val, ix: int(100*val)))\n",
    "ax.set_ylabel(\"HP (%)\")\n",
    "\n",
    "# Legend\n",
    "ax.legend(bbox_to_anchor=(1, 1), loc=\"upper left\")\n",
    "\n",
    "fig.savefig(f\"{output_dir}/summary_stats.n16.box.pdf\", \n",
    "            dpi=300, bbox_inches=\"tight\",\n",
    "            pad_inches=0.5)"
   ]
  },
  {
   "cell_type": "code",
   "execution_count": null,
   "id": "e17d1078",
   "metadata": {},
   "outputs": [],
   "source": []
  },
  {
   "cell_type": "code",
   "execution_count": null,
   "id": "97cd57c5",
   "metadata": {},
   "outputs": [],
   "source": []
  },
  {
   "cell_type": "code",
   "execution_count": null,
   "id": "86d00777",
   "metadata": {},
   "outputs": [],
   "source": []
  },
  {
   "cell_type": "code",
   "execution_count": null,
   "id": "05d610da",
   "metadata": {},
   "outputs": [],
   "source": []
  }
 ],
 "metadata": {
  "kernelspec": {
   "display_name": "Python 3 (ipykernel)",
   "language": "python",
   "name": "python3"
  },
  "language_info": {
   "codemirror_mode": {
    "name": "ipython",
    "version": 3
   },
   "file_extension": ".py",
   "mimetype": "text/x-python",
   "name": "python",
   "nbconvert_exporter": "python",
   "pygments_lexer": "ipython3",
   "version": "3.7.12"
  }
 },
 "nbformat": 4,
 "nbformat_minor": 5
}
