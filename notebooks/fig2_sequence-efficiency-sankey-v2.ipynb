{
 "cells": [
  {
   "cell_type": "code",
   "execution_count": 1,
   "id": "bb1d4f14",
   "metadata": {},
   "outputs": [],
   "source": [
    "import os\n",
    "import sys\n",
    "import pandas as pd\n",
    "import numpy as np\n",
    "\n",
    "from dataclasses import dataclass\n",
    "from nomadic.pipeline.qcbams.plot import MappingStatesAndColors\n",
    "\n",
    "\n",
    "import plotly.graph_objects as go\n",
    "import seaborn as sns\n",
    "import matplotlib.pyplot as plt\n",
    "plt.rcParams[\"figure.dpi\"] = 300"
   ]
  },
  {
   "cell_type": "markdown",
   "id": "0373de21",
   "metadata": {},
   "source": [
    "## Auxiliary"
   ]
  },
  {
   "cell_type": "code",
   "execution_count": 2,
   "id": "5766f709",
   "metadata": {},
   "outputs": [],
   "source": [
    "def get_experiment_dir(expt, barcoding=\"single_end\"):\n",
    "    d = f\"../experiments/{expt}/nomadic/guppy/hac/{barcoding}\"\n",
    "    return d\n",
    "\n",
    "def load_mapping_df(expt, barcoding=\"single_end\", state=\"primary\"):\n",
    "    expt_dir = get_experiment_dir(expt, barcoding)\n",
    "    df = pd.read_csv(f\"{expt_dir}/qc-bams/table.mapping.{state}_state.csv\")\n",
    "    return df\n",
    "\n",
    "def load_balance_df(expt, barcoding=\"single_end\"):\n",
    "    expt_dir = get_experiment_dir(expt, barcoding)\n",
    "    df = pd.read_csv(f\"{expt_dir}/target-extraction/table.target_coverage.overview.csv\")\n",
    "    return df"
   ]
  },
  {
   "cell_type": "code",
   "execution_count": 3,
   "id": "857faefe",
   "metadata": {},
   "outputs": [],
   "source": [
    "def load_seq_effiency(expt, barcoding=\"single_end\"):\n",
    "    expt_dir = get_experiment_dir(expt, barcoding)\n",
    "    df = pd.read_csv(\n",
    "        f\"../../nomadic/experiments/{expt_dir}\"\n",
    "        \"/qc-efficiency/table.overall.effiency.csv\")\n",
    "    return df"
   ]
  },
  {
   "cell_type": "code",
   "execution_count": 4,
   "id": "01c4d3c6",
   "metadata": {},
   "outputs": [],
   "source": [
    "msc = MappingStatesAndColors()"
   ]
  },
  {
   "cell_type": "code",
   "execution_count": 5,
   "id": "3d9f5e90",
   "metadata": {},
   "outputs": [],
   "source": [
    "def rgb2hex(rgb_tuple, M=255):\n",
    "    return \"#{:02x}{:02x}{:02x}\".format(*[int(M*v) for v in rgb_tuple])"
   ]
  },
  {
   "cell_type": "markdown",
   "id": "271bb9b6",
   "metadata": {},
   "source": [
    "## Load data"
   ]
  },
  {
   "cell_type": "code",
   "execution_count": 7,
   "id": "7bfb9996",
   "metadata": {},
   "outputs": [],
   "source": [
    "expt = \"2021-11-14_strain-validation-flongle-lfb\"\n",
    "#expt = \"2022-02-16_zmb-discards-8plex\""
   ]
  },
  {
   "cell_type": "markdown",
   "id": "12dac737",
   "metadata": {},
   "source": [
    "*NOMADIC*"
   ]
  },
  {
   "cell_type": "code",
   "execution_count": 8,
   "id": "8d2c3796",
   "metadata": {},
   "outputs": [],
   "source": [
    "eff_df = load_seq_effiency(expt)\n",
    "eff_df.columns = [\"subset\", \"n_reads\", \"n_bases\"]"
   ]
  },
  {
   "cell_type": "markdown",
   "id": "d986db86",
   "metadata": {},
   "source": [
    "*NOMADIC2*"
   ]
  },
  {
   "cell_type": "code",
   "execution_count": 9,
   "id": "fb7ef7ef",
   "metadata": {},
   "outputs": [],
   "source": [
    "mapping_df = load_mapping_df(expt)\n",
    "balance_df = load_balance_df(expt)"
   ]
  },
  {
   "cell_type": "markdown",
   "id": "27b93cd4",
   "metadata": {},
   "source": [
    "## Munge"
   ]
  },
  {
   "cell_type": "code",
   "execution_count": 10,
   "id": "99464f0e",
   "metadata": {},
   "outputs": [],
   "source": [
    "# Focus on number of reads\n",
    "eff_values = eff_df.drop(\"n_bases\", axis=1)\n",
    "eff_values.index = eff_values[\"subset\"]\n",
    "eff_values = eff_values[\"n_reads\"].squeeze()"
   ]
  },
  {
   "cell_type": "code",
   "execution_count": 11,
   "id": "743c3b66",
   "metadata": {},
   "outputs": [],
   "source": [
    "# Add failed categories\n",
    "eff_values[\"n_failed_qc\"] = eff_values[\"n_total\"] - eff_values[\"n_passed_qc\"]\n",
    "eff_values[\"unclassified\"] = eff_values[\"n_passed_qc\"] - eff_values[\"n_barcoded\"]\n",
    "eff_values[\"n_offtarget\"] = eff_values[\"n_mapped\"] - eff_values[\"n_ontarget\"]"
   ]
  },
  {
   "cell_type": "code",
   "execution_count": 12,
   "id": "d1c87b9d",
   "metadata": {},
   "outputs": [
    {
     "data": {
      "text/plain": [
       "subset\n",
       "n_total         345457.0\n",
       "n_passed_qc     310110.0\n",
       "n_barcoded      276489.0\n",
       "n_mapped        212057.0\n",
       "n_ontarget      198269.0\n",
       "n_failed_qc      35347.0\n",
       "unclassified     33621.0\n",
       "n_offtarget      13788.0\n",
       "Name: n_reads, dtype: float64"
      ]
     },
     "execution_count": 12,
     "metadata": {},
     "output_type": "execute_result"
    }
   ],
   "source": [
    "eff_values"
   ]
  },
  {
   "cell_type": "code",
   "execution_count": 13,
   "id": "8088b61b",
   "metadata": {},
   "outputs": [],
   "source": [
    "# Replace 'n_mapped' with pf/hs/unmapped breakdown\n",
    "eff_values.drop(\"n_mapped\", inplace=True)"
   ]
  },
  {
   "cell_type": "code",
   "execution_count": 14,
   "id": "06c73f67",
   "metadata": {},
   "outputs": [],
   "source": [
    "map_values = mapping_df[msc.primary_levels].sum().squeeze()"
   ]
  },
  {
   "cell_type": "code",
   "execution_count": 15,
   "id": "1cef5c0c",
   "metadata": {},
   "outputs": [],
   "source": [
    "eff_values = pd.concat([eff_values, map_values])\n",
    "#assert len(eff_values) == 9"
   ]
  },
  {
   "cell_type": "code",
   "execution_count": 16,
   "id": "5c0902bf",
   "metadata": {},
   "outputs": [
    {
     "data": {
      "text/plain": [
       "n_total         345457.0\n",
       "n_passed_qc     310110.0\n",
       "n_barcoded      276489.0\n",
       "n_ontarget      198269.0\n",
       "n_failed_qc      35347.0\n",
       "unclassified     33621.0\n",
       "n_offtarget      13788.0\n",
       "unmapped           334.0\n",
       "hs_mapped        64077.0\n",
       "pf_mapped       212038.0\n",
       "dtype: float64"
      ]
     },
     "execution_count": 16,
     "metadata": {},
     "output_type": "execute_result"
    }
   ],
   "source": [
    "eff_values"
   ]
  },
  {
   "cell_type": "markdown",
   "id": "9cada517",
   "metadata": {},
   "source": [
    "## Prepare plotting objects"
   ]
  },
  {
   "cell_type": "code",
   "execution_count": 104,
   "id": "afe58abd",
   "metadata": {},
   "outputs": [],
   "source": [
    "EFF_ORDER = [\n",
    "    \"n_total\",\n",
    "    \"n_failed_qc\",\n",
    "    \"n_passed_qc\",\n",
    "    \"unclassified\",\n",
    "    \"n_barcoded\",\n",
    "    \"unmapped\",\n",
    "    \"hs_mapped\",\n",
    "    \"pf_mapped\",\n",
    "    \"n_offtarget\",\n",
    "    \"n_ontarget\",\n",
    "]"
   ]
  },
  {
   "cell_type": "code",
   "execution_count": 105,
   "id": "f90fadc8",
   "metadata": {},
   "outputs": [
    {
     "data": {
      "text/plain": [
       "10"
      ]
     },
     "execution_count": 105,
     "metadata": {},
     "output_type": "execute_result"
    }
   ],
   "source": [
    "len(EFF_ORDER)"
   ]
  },
  {
   "cell_type": "code",
   "execution_count": 106,
   "id": "e8d38ea3",
   "metadata": {},
   "outputs": [],
   "source": [
    "eff_values = eff_values[EFF_ORDER]"
   ]
  },
  {
   "cell_type": "code",
   "execution_count": 107,
   "id": "2a06eaf0",
   "metadata": {},
   "outputs": [],
   "source": [
    "colors = sns.color_palette(\"Greys_r\", len(EFF_ORDER)).as_hex()\n",
    "colors = [\n",
    "    c\n",
    "    if n not in msc.primary_levels \n",
    "    else rgb2hex(dict(zip(msc.primary_levels, msc.primary_colors))[n])\n",
    "    for (n, c) in zip(EFF_ORDER, colors)\n",
    "]"
   ]
  },
  {
   "cell_type": "code",
   "execution_count": 108,
   "id": "2f2d15ff",
   "metadata": {},
   "outputs": [
    {
     "data": {
      "text/plain": [
       "10"
      ]
     },
     "execution_count": 108,
     "metadata": {},
     "output_type": "execute_result"
    }
   ],
   "source": [
    "len(colors)"
   ]
  },
  {
   "cell_type": "code",
   "execution_count": 109,
   "id": "05028f56",
   "metadata": {},
   "outputs": [],
   "source": [
    "data_dt = {\n",
    "    \"index\": np.arange(len(eff_values)),\n",
    "    \"name\": eff_values.index.tolist(),\n",
    "    \"n_reads\": eff_values.values,\n",
    "}"
   ]
  },
  {
   "cell_type": "code",
   "execution_count": 110,
   "id": "96c90914",
   "metadata": {},
   "outputs": [],
   "source": [
    "link = {\n",
    "    \"source\": [0, 0, 2, 2, 4, 4, 4, 7, 7],\n",
    "    \"target\": [1, 2, 3, 4, 5, 6, 7, 8, 9],\n",
    "    \"value\": eff_values.values[1:]\n",
    "}"
   ]
  },
  {
   "cell_type": "code",
   "execution_count": 111,
   "id": "070ce1e1",
   "metadata": {},
   "outputs": [],
   "source": [
    "N = eff_values[\"n_total\"]\n",
    "INTV = 0.1\n",
    "node = {\n",
    "    \n",
    "    # GENERAL AESTHETIC\n",
    "    \"pad\": 15,\n",
    "    \"thickness\": 15,\n",
    "    \"line\": {\"color\": \"black\", \"width\": 0.5},\n",
    "    \n",
    "    # COLORS\n",
    "    \"color\": colors, # sns.color_palette(\"inferno\", len(EFF_ORDER)).as_hex(),\n",
    "    \n",
    "    # LABELS\n",
    "    \"label\": [f\"{n} ({100*v/N:.01f}%)\" \n",
    "              for (n, v) in zip(data_dt[\"name\"], data_dt[\"n_reads\"])],\n",
    "    \n",
    "    \n",
    "    # POSITIONING\n",
    "    \"x\": [0] + [(1+s)*INTV for s in link[\"source\"]],\n",
    "    \"y\": [0] + [0.1]*len(eff_values[1:])\n",
    "}"
   ]
  },
  {
   "cell_type": "markdown",
   "id": "ffcdcc94",
   "metadata": {},
   "source": [
    "## INCLUDE GENES"
   ]
  },
  {
   "cell_type": "code",
   "execution_count": 112,
   "id": "7b32e896",
   "metadata": {},
   "outputs": [],
   "source": [
    "gene_sum_df = (balance_df\n",
    "               .query(\"overlap == 'any'\")\n",
    "               .groupby(\"gene_name\")\n",
    "               .sum()\n",
    "              )[\"reads_total\"]"
   ]
  },
  {
   "cell_type": "code",
   "execution_count": 125,
   "id": "4a6ac449",
   "metadata": {},
   "outputs": [
    {
     "data": {
      "text/plain": [
       "gene_name\n",
       "CRT1      6497.0\n",
       "DHFR     20022.0\n",
       "DHPS     35353.0\n",
       "K13      33716.0\n",
       "MDR1     54279.0\n",
       "MSP2     11733.0\n",
       "PMI      17290.0\n",
       "PMIII    19363.0\n",
       "Name: reads_total, dtype: float64"
      ]
     },
     "execution_count": 125,
     "metadata": {},
     "output_type": "execute_result"
    }
   ],
   "source": [
    "gene_sum_df"
   ]
  },
  {
   "cell_type": "code",
   "execution_count": 113,
   "id": "368a19b0",
   "metadata": {},
   "outputs": [],
   "source": [
    "M = gene_sum_df.sum()\n",
    "n_genes = len(gene_sum_df)\n",
    "gene_labels = [f\"{n} ({100*v/M:.01f}%)\"\n",
    "               for (n, v) in gene_sum_df.items()]"
   ]
  },
  {
   "cell_type": "code",
   "execution_count": 114,
   "id": "071ee466",
   "metadata": {},
   "outputs": [],
   "source": [
    "gene_colors = sns.color_palette(\"Spectral\", n_genes).as_hex()"
   ]
  },
  {
   "cell_type": "code",
   "execution_count": 115,
   "id": "0bceaa76",
   "metadata": {},
   "outputs": [],
   "source": [
    "data_dt = {\n",
    "    \"index\": np.arange(len(eff_values)),\n",
    "    \"name\": eff_values.index.tolist(),\n",
    "    \"n_reads\": eff_values.values,\n",
    "}"
   ]
  },
  {
   "cell_type": "code",
   "execution_count": 116,
   "id": "e7f812eb",
   "metadata": {},
   "outputs": [],
   "source": [
    "link = {\n",
    "    \"source\": [0, 0, 2, 2, 4, 4, 4, 7, 7] + [9]*n_genes,\n",
    "    \"target\": [1, 2, 3, 4, 5, 6, 7, 8, 9] + list(range(10, 10*n_genes)),\n",
    "    \"value\": list(eff_values.values[1:]) + list(gene_sum_df)\n",
    "}"
   ]
  },
  {
   "cell_type": "code",
   "execution_count": 117,
   "id": "7a69f63a",
   "metadata": {},
   "outputs": [],
   "source": [
    "# Try and get resonable X positions\n",
    "sources = np.unique(link[\"source\"])\n",
    "n_sources = sources.shape[0]\n",
    "n_columns = n_sources + 1\n",
    "INTV = 1 / n_columns\n",
    "xpos = {s: INTV + INTV*i for i, s in enumerate(sources)}"
   ]
  },
  {
   "cell_type": "code",
   "execution_count": 118,
   "id": "620a6838",
   "metadata": {},
   "outputs": [],
   "source": [
    "N = eff_values[\"n_total\"]\n",
    "INTV = 0.1\n",
    "node = {\n",
    "    \n",
    "    # GENERAL AESTHETIC\n",
    "    \"pad\": 15,\n",
    "    \"thickness\": 15,\n",
    "    \"line\": {\"color\": \"black\", \"width\": 0.5},\n",
    "    \n",
    "    # COLORS\n",
    "    \"color\": colors + gene_colors,\n",
    "    \n",
    "    # LABELS\n",
    "    \"label\": [f\"{n} ({100*v/N:.01f}%)\" \n",
    "              for (n, v) in zip(data_dt[\"name\"], data_dt[\"n_reads\"])] + gene_labels,\n",
    "    \n",
    "    \n",
    "    # POSITIONING\n",
    "    \"x\": [0.001, 0.15, 0.15, 0.3, 0.3, 0.45, 0.45, 0.45, 0.6, 0.6] + [1]*8,\n",
    "    \"y\": [0.001, 0.5, 0.001, 0.45, 0.001, 0.5, 0.35, 0.001, 0.3, 0.001] + list(np.linspace(-0.2, 0.2, 9))\n",
    "}"
   ]
  },
  {
   "cell_type": "code",
   "execution_count": 119,
   "id": "ecc7f29b",
   "metadata": {},
   "outputs": [
    {
     "data": {
      "image/png": "[encoded data removed]",
      "text/plain": [
       "<Figure size 5400x300 with 1 Axes>"
      ]
     },
     "metadata": {
      "needs_background": "light"
     },
     "output_type": "display_data"
    }
   ],
   "source": [
    "sns.palplot(colors + gene_colors)"
   ]
  },
  {
   "cell_type": "markdown",
   "id": "4906ded3",
   "metadata": {},
   "source": [
    "## Plot"
   ]
  },
  {
   "cell_type": "code",
   "execution_count": 120,
   "id": "c4896c64",
   "metadata": {},
   "outputs": [
    {
     "data": {
      "application/vnd.plotly.v1+json": {
       "config": {
        "plotlyServerURL": "https://plot.ly"
       },
       "data": [
        {
         "arrangement": "snap",
         "domain": {
          "x": [
           0,
           1
          ],
          "y": [
           0,
           1
          ]
         },
         "link": {
          "source": [
           0,
           0,
           2,
           2,
           4,
           4,
           4,
           7,
           7,
           9,
           9,
           9,
           9,
           9,
           9,
           9,
           9
          ],
          "target": [
           1,
           2,
           3,
           4,
           5,
           6,
           7,
           8,
           9,
           10,
           11,
           12,
           13,
           14,
           15,
           16,
           17,
           18,
           19,
           20,
           21,
           22,
           23,
           24,
           25,
           26,
           27,
           28,
           29,
           30,
           31,
           32,
           33,
           34,
           35,
           36,
           37,
           38,
           39,
           40,
           41,
           42,
           43,
           44,
           45,
           46,
           47,
           48,
           49,
           50,
           51,
           52,
           53,
           54,
           55,
           56,
           57,
           58,
           59,
           60,
           61,
           62,
           63,
           64,
           65,
           66,
           67,
           68,
           69,
           70,
           71,
           72,
           73,
           74,
           75,
           76,
           77,
           78,
           79
          ],
          "value": [
           35347,
           310110,
           33621,
           276489,
           334,
           64077,
           212038,
           13788,
           198269,
           6497,
           20022,
           35353,
           33716,
           54279,
           11733,
           17290,
           19363
          ]
         },
         "node": {
          "color": [
           "#1b1b1b",
           "#393939",
           "#575757",
           "#707070",
           "#898989",
           "#bfbfbf",
           "#cb181d",
           "#2171b5",
           "#e6e6e6",
           "#f4f4f4",
           "#d8434e",
           "#f67a49",
           "#fdbf6f",
           "#feeda1",
           "#f1f9a9",
           "#bfe5a0",
           "#74c7a5",
           "#378ebb"
          ],
          "label": [
           "n_total (100.0%)",
           "n_failed_qc (10.2%)",
           "n_passed_qc (89.8%)",
           "unclassified (9.7%)",
           "n_barcoded (80.0%)",
           "unmapped (0.1%)",
           "hs_mapped (18.5%)",
           "pf_mapped (61.4%)",
           "n_offtarget (4.0%)",
           "n_ontarget (57.4%)",
           "CRT1 (3.3%)",
           "DHFR (10.1%)",
           "DHPS (17.8%)",
           "K13 (17.0%)",
           "MDR1 (27.4%)",
           "MSP2 (5.9%)",
           "PMI (8.7%)",
           "PMIII (9.8%)"
          ],
          "line": {
           "color": "black",
           "width": 0.5
          },
          "pad": 15,
          "thickness": 15,
          "x": [
           0.001,
           0.15,
           0.15,
           0.3,
           0.3,
           0.45,
           0.45,
           0.45,
           0.6,
           0.6,
           1,
           1,
           1,
           1,
           1,
           1,
           1,
           1
          ],
          "y": [
           0.001,
           0.5,
           0.001,
           0.45,
           0.001,
           0.5,
           0.35,
           0.001,
           0.3,
           0.001,
           -0.2,
           -0.15000000000000002,
           -0.1,
           -0.04999999999999999,
           0,
           0.04999999999999999,
           0.10000000000000003,
           0.15000000000000002,
           0.2
          ]
         },
         "type": "sankey"
        }
       ],
       "layout": {
        "template": {
         "data": {
          "bar": [
           {
            "error_x": {
             "color": "#2a3f5f"
            },
            "error_y": {
             "color": "#2a3f5f"
            },
            "marker": {
             "line": {
              "color": "#E5ECF6",
              "width": 0.5
             },
             "pattern": {
              "fillmode": "overlay",
              "size": 10,
              "solidity": 0.2
             }
            },
            "type": "bar"
           }
          ],
          "barpolar": [
           {
            "marker": {
             "line": {
              "color": "#E5ECF6",
              "width": 0.5
             },
             "pattern": {
              "fillmode": "overlay",
              "size": 10,
              "solidity": 0.2
             }
            },
            "type": "barpolar"
           }
          ],
          "carpet": [
           {
            "aaxis": {
             "endlinecolor": "#2a3f5f",
             "gridcolor": "white",
             "linecolor": "white",
             "minorgridcolor": "white",
             "startlinecolor": "#2a3f5f"
            },
            "baxis": {
             "endlinecolor": "#2a3f5f",
             "gridcolor": "white",
             "linecolor": "white",
             "minorgridcolor": "white",
             "startlinecolor": "#2a3f5f"
            },
            "type": "carpet"
           }
          ],
          "choropleth": [
           {
            "colorbar": {
             "outlinewidth": 0,
             "ticks": ""
            },
            "type": "choropleth"
           }
          ],
          "contour": [
           {
            "colorbar": {
             "outlinewidth": 0,
             "ticks": ""
            },
            "colorscale": [
             [
              0,
              "#0d0887"
             ],
             [
              0.1111111111111111,
              "#46039f"
             ],
             [
              0.2222222222222222,
              "#7201a8"
             ],
             [
              0.3333333333333333,
              "#9c179e"
             ],
             [
              0.4444444444444444,
              "#bd3786"
             ],
             [
              0.5555555555555556,
              "#d8576b"
             ],
             [
              0.6666666666666666,
              "#ed7953"
             ],
             [
              0.7777777777777778,
              "#fb9f3a"
             ],
             [
              0.8888888888888888,
              "#fdca26"
             ],
             [
              1,
              "#f0f921"
             ]
            ],
            "type": "contour"
           }
          ],
          "contourcarpet": [
           {
            "colorbar": {
             "outlinewidth": 0,
             "ticks": ""
            },
            "type": "contourcarpet"
           }
          ],
          "heatmap": [
           {
            "colorbar": {
             "outlinewidth": 0,
             "ticks": ""
            },
            "colorscale": [
             [
              0,
              "#0d0887"
             ],
             [
              0.1111111111111111,
              "#46039f"
             ],
             [
              0.2222222222222222,
              "#7201a8"
             ],
             [
              0.3333333333333333,
              "#9c179e"
             ],
             [
              0.4444444444444444,
              "#bd3786"
             ],
             [
              0.5555555555555556,
              "#d8576b"
             ],
             [
              0.6666666666666666,
              "#ed7953"
             ],
             [
              0.7777777777777778,
              "#fb9f3a"
             ],
             [
              0.8888888888888888,
              "#fdca26"
             ],
             [
              1,
              "#f0f921"
             ]
            ],
            "type": "heatmap"
           }
          ],
          "heatmapgl": [
           {
            "colorbar": {
             "outlinewidth": 0,
             "ticks": ""
            },
            "colorscale": [
             [
              0,
              "#0d0887"
             ],
             [
              0.1111111111111111,
              "#46039f"
             ],
             [
              0.2222222222222222,
              "#7201a8"
             ],
             [
              0.3333333333333333,
              "#9c179e"
             ],
             [
              0.4444444444444444,
              "#bd3786"
             ],
             [
              0.5555555555555556,
              "#d8576b"
             ],
             [
              0.6666666666666666,
              "#ed7953"
             ],
             [
              0.7777777777777778,
              "#fb9f3a"
             ],
             [
              0.8888888888888888,
              "#fdca26"
             ],
             [
              1,
              "#f0f921"
             ]
            ],
            "type": "heatmapgl"
           }
          ],
          "histogram": [
           {
            "marker": {
             "pattern": {
              "fillmode": "overlay",
              "size": 10,
              "solidity": 0.2
             }
            },
            "type": "histogram"
           }
          ],
          "histogram2d": [
           {
            "colorbar": {
             "outlinewidth": 0,
             "ticks": ""
            },
            "colorscale": [
             [
              0,
              "#0d0887"
             ],
             [
              0.1111111111111111,
              "#46039f"
             ],
             [
              0.2222222222222222,
              "#7201a8"
             ],
             [
              0.3333333333333333,
              "#9c179e"
             ],
             [
              0.4444444444444444,
              "#bd3786"
             ],
             [
              0.5555555555555556,
              "#d8576b"
             ],
             [
              0.6666666666666666,
              "#ed7953"
             ],
             [
              0.7777777777777778,
              "#fb9f3a"
             ],
             [
              0.8888888888888888,
              "#fdca26"
             ],
             [
              1,
              "#f0f921"
             ]
            ],
            "type": "histogram2d"
           }
          ],
          "histogram2dcontour": [
           {
            "colorbar": {
             "outlinewidth": 0,
             "ticks": ""
            },
            "colorscale": [
             [
              0,
              "#0d0887"
             ],
             [
              0.1111111111111111,
              "#46039f"
             ],
             [
              0.2222222222222222,
              "#7201a8"
             ],
             [
              0.3333333333333333,
              "#9c179e"
             ],
             [
              0.4444444444444444,
              "#bd3786"
             ],
             [
              0.5555555555555556,
              "#d8576b"
             ],
             [
              0.6666666666666666,
              "#ed7953"
             ],
             [
              0.7777777777777778,
              "#fb9f3a"
             ],
             [
              0.8888888888888888,
              "#fdca26"
             ],
             [
              1,
              "#f0f921"
             ]
            ],
            "type": "histogram2dcontour"
           }
          ],
          "mesh3d": [
           {
            "colorbar": {
             "outlinewidth": 0,
             "ticks": ""
            },
            "type": "mesh3d"
           }
          ],
          "parcoords": [
           {
            "line": {
             "colorbar": {
              "outlinewidth": 0,
              "ticks": ""
             }
            },
            "type": "parcoords"
           }
          ],
          "pie": [
           {
            "automargin": true,
            "type": "pie"
           }
          ],
          "scatter": [
           {
            "fillpattern": {
             "fillmode": "overlay",
             "size": 10,
             "solidity": 0.2
            },
            "type": "scatter"
           }
          ],
          "scatter3d": [
           {
            "line": {
             "colorbar": {
              "outlinewidth": 0,
              "ticks": ""
             }
            },
            "marker": {
             "colorbar": {
              "outlinewidth": 0,
              "ticks": ""
             }
            },
            "type": "scatter3d"
           }
          ],
          "scattercarpet": [
           {
            "marker": {
             "colorbar": {
              "outlinewidth": 0,
              "ticks": ""
             }
            },
            "type": "scattercarpet"
           }
          ],
          "scattergeo": [
           {
            "marker": {
             "colorbar": {
              "outlinewidth": 0,
              "ticks": ""
             }
            },
            "type": "scattergeo"
           }
          ],
          "scattergl": [
           {
            "marker": {
             "colorbar": {
              "outlinewidth": 0,
              "ticks": ""
             }
            },
            "type": "scattergl"
           }
          ],
          "scattermapbox": [
           {
            "marker": {
             "colorbar": {
              "outlinewidth": 0,
              "ticks": ""
             }
            },
            "type": "scattermapbox"
           }
          ],
          "scatterpolar": [
           {
            "marker": {
             "colorbar": {
              "outlinewidth": 0,
              "ticks": ""
             }
            },
            "type": "scatterpolar"
           }
          ],
          "scatterpolargl": [
           {
            "marker": {
             "colorbar": {
              "outlinewidth": 0,
              "ticks": ""
             }
            },
            "type": "scatterpolargl"
           }
          ],
          "scatterternary": [
           {
            "marker": {
             "colorbar": {
              "outlinewidth": 0,
              "ticks": ""
             }
            },
            "type": "scatterternary"
           }
          ],
          "surface": [
           {
            "colorbar": {
             "outlinewidth": 0,
             "ticks": ""
            },
            "colorscale": [
             [
              0,
              "#0d0887"
             ],
             [
              0.1111111111111111,
              "#46039f"
             ],
             [
              0.2222222222222222,
              "#7201a8"
             ],
             [
              0.3333333333333333,
              "#9c179e"
             ],
             [
              0.4444444444444444,
              "#bd3786"
             ],
             [
              0.5555555555555556,
              "#d8576b"
             ],
             [
              0.6666666666666666,
              "#ed7953"
             ],
             [
              0.7777777777777778,
              "#fb9f3a"
             ],
             [
              0.8888888888888888,
              "#fdca26"
             ],
             [
              1,
              "#f0f921"
             ]
            ],
            "type": "surface"
           }
          ],
          "table": [
           {
            "cells": {
             "fill": {
              "color": "#EBF0F8"
             },
             "line": {
              "color": "white"
             }
            },
            "header": {
             "fill": {
              "color": "#C8D4E3"
             },
             "line": {
              "color": "white"
             }
            },
            "type": "table"
           }
          ]
         },
         "layout": {
          "annotationdefaults": {
           "arrowcolor": "#2a3f5f",
           "arrowhead": 0,
           "arrowwidth": 1
          },
          "autotypenumbers": "strict",
          "coloraxis": {
           "colorbar": {
            "outlinewidth": 0,
            "ticks": ""
           }
          },
          "colorscale": {
           "diverging": [
            [
             0,
             "#8e0152"
            ],
            [
             0.1,
             "#c51b7d"
            ],
            [
             0.2,
             "#de77ae"
            ],
            [
             0.3,
             "#f1b6da"
            ],
            [
             0.4,
             "#fde0ef"
            ],
            [
             0.5,
             "#f7f7f7"
            ],
            [
             0.6,
             "#e6f5d0"
            ],
            [
             0.7,
             "#b8e186"
            ],
            [
             0.8,
             "#7fbc41"
            ],
            [
             0.9,
             "#4d9221"
            ],
            [
             1,
             "#276419"
            ]
           ],
           "sequential": [
            [
             0,
             "#0d0887"
            ],
            [
             0.1111111111111111,
             "#46039f"
            ],
            [
             0.2222222222222222,
             "#7201a8"
            ],
            [
             0.3333333333333333,
             "#9c179e"
            ],
            [
             0.4444444444444444,
             "#bd3786"
            ],
            [
             0.5555555555555556,
             "#d8576b"
            ],
            [
             0.6666666666666666,
             "#ed7953"
            ],
            [
             0.7777777777777778,
             "#fb9f3a"
            ],
            [
             0.8888888888888888,
             "#fdca26"
            ],
            [
             1,
             "#f0f921"
            ]
           ],
           "sequentialminus": [
            [
             0,
             "#0d0887"
            ],
            [
             0.1111111111111111,
             "#46039f"
            ],
            [
             0.2222222222222222,
             "#7201a8"
            ],
            [
             0.3333333333333333,
             "#9c179e"
            ],
            [
             0.4444444444444444,
             "#bd3786"
            ],
            [
             0.5555555555555556,
             "#d8576b"
            ],
            [
             0.6666666666666666,
             "#ed7953"
            ],
            [
             0.7777777777777778,
             "#fb9f3a"
            ],
            [
             0.8888888888888888,
             "#fdca26"
            ],
            [
             1,
             "#f0f921"
            ]
           ]
          },
          "colorway": [
           "#636efa",
           "#EF553B",
           "#00cc96",
           "#ab63fa",
           "#FFA15A",
           "#19d3f3",
           "#FF6692",
           "#B6E880",
           "#FF97FF",
           "#FECB52"
          ],
          "font": {
           "color": "#2a3f5f"
          },
          "geo": {
           "bgcolor": "white",
           "lakecolor": "white",
           "landcolor": "#E5ECF6",
           "showlakes": true,
           "showland": true,
           "subunitcolor": "white"
          },
          "hoverlabel": {
           "align": "left"
          },
          "hovermode": "closest",
          "mapbox": {
           "style": "light"
          },
          "paper_bgcolor": "white",
          "plot_bgcolor": "#E5ECF6",
          "polar": {
           "angularaxis": {
            "gridcolor": "white",
            "linecolor": "white",
            "ticks": ""
           },
           "bgcolor": "#E5ECF6",
           "radialaxis": {
            "gridcolor": "white",
            "linecolor": "white",
            "ticks": ""
           }
          },
          "scene": {
           "xaxis": {
            "backgroundcolor": "#E5ECF6",
            "gridcolor": "white",
            "gridwidth": 2,
            "linecolor": "white",
            "showbackground": true,
            "ticks": "",
            "zerolinecolor": "white"
           },
           "yaxis": {
            "backgroundcolor": "#E5ECF6",
            "gridcolor": "white",
            "gridwidth": 2,
            "linecolor": "white",
            "showbackground": true,
            "ticks": "",
            "zerolinecolor": "white"
           },
           "zaxis": {
            "backgroundcolor": "#E5ECF6",
            "gridcolor": "white",
            "gridwidth": 2,
            "linecolor": "white",
            "showbackground": true,
            "ticks": "",
            "zerolinecolor": "white"
           }
          },
          "shapedefaults": {
           "line": {
            "color": "#2a3f5f"
           }
          },
          "ternary": {
           "aaxis": {
            "gridcolor": "white",
            "linecolor": "white",
            "ticks": ""
           },
           "baxis": {
            "gridcolor": "white",
            "linecolor": "white",
            "ticks": ""
           },
           "bgcolor": "#E5ECF6",
           "caxis": {
            "gridcolor": "white",
            "linecolor": "white",
            "ticks": ""
           }
          },
          "title": {
           "x": 0.05
          },
          "xaxis": {
           "automargin": true,
           "gridcolor": "white",
           "linecolor": "white",
           "ticks": "",
           "title": {
            "standoff": 15
           },
           "zerolinecolor": "white",
           "zerolinewidth": 2
          },
          "yaxis": {
           "automargin": true,
           "gridcolor": "white",
           "linecolor": "white",
           "ticks": "",
           "title": {
            "standoff": 15
           },
           "zerolinecolor": "white",
           "zerolinewidth": 2
          }
         }
        }
       }
      },
      "text/html": [
       "<div>                            <div id=\"94904d43-326f-4570-a331-6c8e20ac2e9b\" class=\"plotly-graph-div\" style=\"height:525px; width:100%;\"></div>            <script type=\"text/javascript\">                require([\"plotly\"], function(Plotly) {                    window.PLOTLYENV=window.PLOTLYENV || {};                                    if (document.getElementById(\"94904d43-326f-4570-a331-6c8e20ac2e9b\")) {                    Plotly.newPlot(                        \"94904d43-326f-4570-a331-6c8e20ac2e9b\",                        [{\"arrangement\":\"snap\",\"domain\":{\"x\":[0,1],\"y\":[0,1]},\"link\":{\"source\":[0,0,2,2,4,4,4,7,7,9,9,9,9,9,9,9,9],\"target\":[1,2,3,4,5,6,7,8,9,10,11,12,13,14,15,16,17,18,19,20,21,22,23,24,25,26,27,28,29,30,31,32,33,34,35,36,37,38,39,40,41,42,43,44,45,46,47,48,49,50,51,52,53,54,55,56,57,58,59,60,61,62,63,64,65,66,67,68,69,70,71,72,73,74,75,76,77,78,79],\"value\":[35347.0,310110.0,33621.0,276489.0,334.0,64077.0,212038.0,13788.0,198269.0,6497.0,20022.0,35353.0,33716.0,54279.0,11733.0,17290.0,19363.0]},\"node\":{\"color\":[\"#1b1b1b\",\"#393939\",\"#575757\",\"#707070\",\"#898989\",\"#bfbfbf\",\"#cb181d\",\"#2171b5\",\"#e6e6e6\",\"#f4f4f4\",\"#d8434e\",\"#f67a49\",\"#fdbf6f\",\"#feeda1\",\"#f1f9a9\",\"#bfe5a0\",\"#74c7a5\",\"#378ebb\"],\"label\":[\"n_total (100.0%)\",\"n_failed_qc (10.2%)\",\"n_passed_qc (89.8%)\",\"unclassified (9.7%)\",\"n_barcoded (80.0%)\",\"unmapped (0.1%)\",\"hs_mapped (18.5%)\",\"pf_mapped (61.4%)\",\"n_offtarget (4.0%)\",\"n_ontarget (57.4%)\",\"CRT1 (3.3%)\",\"DHFR (10.1%)\",\"DHPS (17.8%)\",\"K13 (17.0%)\",\"MDR1 (27.4%)\",\"MSP2 (5.9%)\",\"PMI (8.7%)\",\"PMIII (9.8%)\"],\"line\":{\"color\":\"black\",\"width\":0.5},\"pad\":15,\"thickness\":15,\"x\":[0.001,0.15,0.15,0.3,0.3,0.45,0.45,0.45,0.6,0.6,1,1,1,1,1,1,1,1],\"y\":[0.001,0.5,0.001,0.45,0.001,0.5,0.35,0.001,0.3,0.001,-0.2,-0.15000000000000002,-0.1,-0.04999999999999999,0.0,0.04999999999999999,0.10000000000000003,0.15000000000000002,0.2]},\"type\":\"sankey\"}],                        {\"template\":{\"data\":{\"histogram2dcontour\":[{\"type\":\"histogram2dcontour\",\"colorbar\":{\"outlinewidth\":0,\"ticks\":\"\"},\"colorscale\":[[0.0,\"#0d0887\"],[0.1111111111111111,\"#46039f\"],[0.2222222222222222,\"#7201a8\"],[0.3333333333333333,\"#9c179e\"],[0.4444444444444444,\"#bd3786\"],[0.5555555555555556,\"#d8576b\"],[0.6666666666666666,\"#ed7953\"],[0.7777777777777778,\"#fb9f3a\"],[0.8888888888888888,\"#fdca26\"],[1.0,\"#f0f921\"]]}],\"choropleth\":[{\"type\":\"choropleth\",\"colorbar\":{\"outlinewidth\":0,\"ticks\":\"\"}}],\"histogram2d\":[{\"type\":\"histogram2d\",\"colorbar\":{\"outlinewidth\":0,\"ticks\":\"\"},\"colorscale\":[[0.0,\"#0d0887\"],[0.1111111111111111,\"#46039f\"],[0.2222222222222222,\"#7201a8\"],[0.3333333333333333,\"#9c179e\"],[0.4444444444444444,\"#bd3786\"],[0.5555555555555556,\"#d8576b\"],[0.6666666666666666,\"#ed7953\"],[0.7777777777777778,\"#fb9f3a\"],[0.8888888888888888,\"#fdca26\"],[1.0,\"#f0f921\"]]}],\"heatmap\":[{\"type\":\"heatmap\",\"colorbar\":{\"outlinewidth\":0,\"ticks\":\"\"},\"colorscale\":[[0.0,\"#0d0887\"],[0.1111111111111111,\"#46039f\"],[0.2222222222222222,\"#7201a8\"],[0.3333333333333333,\"#9c179e\"],[0.4444444444444444,\"#bd3786\"],[0.5555555555555556,\"#d8576b\"],[0.6666666666666666,\"#ed7953\"],[0.7777777777777778,\"#fb9f3a\"],[0.8888888888888888,\"#fdca26\"],[1.0,\"#f0f921\"]]}],\"heatmapgl\":[{\"type\":\"heatmapgl\",\"colorbar\":{\"outlinewidth\":0,\"ticks\":\"\"},\"colorscale\":[[0.0,\"#0d0887\"],[0.1111111111111111,\"#46039f\"],[0.2222222222222222,\"#7201a8\"],[0.3333333333333333,\"#9c179e\"],[0.4444444444444444,\"#bd3786\"],[0.5555555555555556,\"#d8576b\"],[0.6666666666666666,\"#ed7953\"],[0.7777777777777778,\"#fb9f3a\"],[0.8888888888888888,\"#fdca26\"],[1.0,\"#f0f921\"]]}],\"contourcarpet\":[{\"type\":\"contourcarpet\",\"colorbar\":{\"outlinewidth\":0,\"ticks\":\"\"}}],\"contour\":[{\"type\":\"contour\",\"colorbar\":{\"outlinewidth\":0,\"ticks\":\"\"},\"colorscale\":[[0.0,\"#0d0887\"],[0.1111111111111111,\"#46039f\"],[0.2222222222222222,\"#7201a8\"],[0.3333333333333333,\"#9c179e\"],[0.4444444444444444,\"#bd3786\"],[0.5555555555555556,\"#d8576b\"],[0.6666666666666666,\"#ed7953\"],[0.7777777777777778,\"#fb9f3a\"],[0.8888888888888888,\"#fdca26\"],[1.0,\"#f0f921\"]]}],\"surface\":[{\"type\":\"surface\",\"colorbar\":{\"outlinewidth\":0,\"ticks\":\"\"},\"colorscale\":[[0.0,\"#0d0887\"],[0.1111111111111111,\"#46039f\"],[0.2222222222222222,\"#7201a8\"],[0.3333333333333333,\"#9c179e\"],[0.4444444444444444,\"#bd3786\"],[0.5555555555555556,\"#d8576b\"],[0.6666666666666666,\"#ed7953\"],[0.7777777777777778,\"#fb9f3a\"],[0.8888888888888888,\"#fdca26\"],[1.0,\"#f0f921\"]]}],\"mesh3d\":[{\"type\":\"mesh3d\",\"colorbar\":{\"outlinewidth\":0,\"ticks\":\"\"}}],\"scatter\":[{\"fillpattern\":{\"fillmode\":\"overlay\",\"size\":10,\"solidity\":0.2},\"type\":\"scatter\"}],\"parcoords\":[{\"type\":\"parcoords\",\"line\":{\"colorbar\":{\"outlinewidth\":0,\"ticks\":\"\"}}}],\"scatterpolargl\":[{\"type\":\"scatterpolargl\",\"marker\":{\"colorbar\":{\"outlinewidth\":0,\"ticks\":\"\"}}}],\"bar\":[{\"error_x\":{\"color\":\"#2a3f5f\"},\"error_y\":{\"color\":\"#2a3f5f\"},\"marker\":{\"line\":{\"color\":\"#E5ECF6\",\"width\":0.5},\"pattern\":{\"fillmode\":\"overlay\",\"size\":10,\"solidity\":0.2}},\"type\":\"bar\"}],\"scattergeo\":[{\"type\":\"scattergeo\",\"marker\":{\"colorbar\":{\"outlinewidth\":0,\"ticks\":\"\"}}}],\"scatterpolar\":[{\"type\":\"scatterpolar\",\"marker\":{\"colorbar\":{\"outlinewidth\":0,\"ticks\":\"\"}}}],\"histogram\":[{\"marker\":{\"pattern\":{\"fillmode\":\"overlay\",\"size\":10,\"solidity\":0.2}},\"type\":\"histogram\"}],\"scattergl\":[{\"type\":\"scattergl\",\"marker\":{\"colorbar\":{\"outlinewidth\":0,\"ticks\":\"\"}}}],\"scatter3d\":[{\"type\":\"scatter3d\",\"line\":{\"colorbar\":{\"outlinewidth\":0,\"ticks\":\"\"}},\"marker\":{\"colorbar\":{\"outlinewidth\":0,\"ticks\":\"\"}}}],\"scattermapbox\":[{\"type\":\"scattermapbox\",\"marker\":{\"colorbar\":{\"outlinewidth\":0,\"ticks\":\"\"}}}],\"scatterternary\":[{\"type\":\"scatterternary\",\"marker\":{\"colorbar\":{\"outlinewidth\":0,\"ticks\":\"\"}}}],\"scattercarpet\":[{\"type\":\"scattercarpet\",\"marker\":{\"colorbar\":{\"outlinewidth\":0,\"ticks\":\"\"}}}],\"carpet\":[{\"aaxis\":{\"endlinecolor\":\"#2a3f5f\",\"gridcolor\":\"white\",\"linecolor\":\"white\",\"minorgridcolor\":\"white\",\"startlinecolor\":\"#2a3f5f\"},\"baxis\":{\"endlinecolor\":\"#2a3f5f\",\"gridcolor\":\"white\",\"linecolor\":\"white\",\"minorgridcolor\":\"white\",\"startlinecolor\":\"#2a3f5f\"},\"type\":\"carpet\"}],\"table\":[{\"cells\":{\"fill\":{\"color\":\"#EBF0F8\"},\"line\":{\"color\":\"white\"}},\"header\":{\"fill\":{\"color\":\"#C8D4E3\"},\"line\":{\"color\":\"white\"}},\"type\":\"table\"}],\"barpolar\":[{\"marker\":{\"line\":{\"color\":\"#E5ECF6\",\"width\":0.5},\"pattern\":{\"fillmode\":\"overlay\",\"size\":10,\"solidity\":0.2}},\"type\":\"barpolar\"}],\"pie\":[{\"automargin\":true,\"type\":\"pie\"}]},\"layout\":{\"autotypenumbers\":\"strict\",\"colorway\":[\"#636efa\",\"#EF553B\",\"#00cc96\",\"#ab63fa\",\"#FFA15A\",\"#19d3f3\",\"#FF6692\",\"#B6E880\",\"#FF97FF\",\"#FECB52\"],\"font\":{\"color\":\"#2a3f5f\"},\"hovermode\":\"closest\",\"hoverlabel\":{\"align\":\"left\"},\"paper_bgcolor\":\"white\",\"plot_bgcolor\":\"#E5ECF6\",\"polar\":{\"bgcolor\":\"#E5ECF6\",\"angularaxis\":{\"gridcolor\":\"white\",\"linecolor\":\"white\",\"ticks\":\"\"},\"radialaxis\":{\"gridcolor\":\"white\",\"linecolor\":\"white\",\"ticks\":\"\"}},\"ternary\":{\"bgcolor\":\"#E5ECF6\",\"aaxis\":{\"gridcolor\":\"white\",\"linecolor\":\"white\",\"ticks\":\"\"},\"baxis\":{\"gridcolor\":\"white\",\"linecolor\":\"white\",\"ticks\":\"\"},\"caxis\":{\"gridcolor\":\"white\",\"linecolor\":\"white\",\"ticks\":\"\"}},\"coloraxis\":{\"colorbar\":{\"outlinewidth\":0,\"ticks\":\"\"}},\"colorscale\":{\"sequential\":[[0.0,\"#0d0887\"],[0.1111111111111111,\"#46039f\"],[0.2222222222222222,\"#7201a8\"],[0.3333333333333333,\"#9c179e\"],[0.4444444444444444,\"#bd3786\"],[0.5555555555555556,\"#d8576b\"],[0.6666666666666666,\"#ed7953\"],[0.7777777777777778,\"#fb9f3a\"],[0.8888888888888888,\"#fdca26\"],[1.0,\"#f0f921\"]],\"sequentialminus\":[[0.0,\"#0d0887\"],[0.1111111111111111,\"#46039f\"],[0.2222222222222222,\"#7201a8\"],[0.3333333333333333,\"#9c179e\"],[0.4444444444444444,\"#bd3786\"],[0.5555555555555556,\"#d8576b\"],[0.6666666666666666,\"#ed7953\"],[0.7777777777777778,\"#fb9f3a\"],[0.8888888888888888,\"#fdca26\"],[1.0,\"#f0f921\"]],\"diverging\":[[0,\"#8e0152\"],[0.1,\"#c51b7d\"],[0.2,\"#de77ae\"],[0.3,\"#f1b6da\"],[0.4,\"#fde0ef\"],[0.5,\"#f7f7f7\"],[0.6,\"#e6f5d0\"],[0.7,\"#b8e186\"],[0.8,\"#7fbc41\"],[0.9,\"#4d9221\"],[1,\"#276419\"]]},\"xaxis\":{\"gridcolor\":\"white\",\"linecolor\":\"white\",\"ticks\":\"\",\"title\":{\"standoff\":15},\"zerolinecolor\":\"white\",\"automargin\":true,\"zerolinewidth\":2},\"yaxis\":{\"gridcolor\":\"white\",\"linecolor\":\"white\",\"ticks\":\"\",\"title\":{\"standoff\":15},\"zerolinecolor\":\"white\",\"automargin\":true,\"zerolinewidth\":2},\"scene\":{\"xaxis\":{\"backgroundcolor\":\"#E5ECF6\",\"gridcolor\":\"white\",\"linecolor\":\"white\",\"showbackground\":true,\"ticks\":\"\",\"zerolinecolor\":\"white\",\"gridwidth\":2},\"yaxis\":{\"backgroundcolor\":\"#E5ECF6\",\"gridcolor\":\"white\",\"linecolor\":\"white\",\"showbackground\":true,\"ticks\":\"\",\"zerolinecolor\":\"white\",\"gridwidth\":2},\"zaxis\":{\"backgroundcolor\":\"#E5ECF6\",\"gridcolor\":\"white\",\"linecolor\":\"white\",\"showbackground\":true,\"ticks\":\"\",\"zerolinecolor\":\"white\",\"gridwidth\":2}},\"shapedefaults\":{\"line\":{\"color\":\"#2a3f5f\"}},\"annotationdefaults\":{\"arrowcolor\":\"#2a3f5f\",\"arrowhead\":0,\"arrowwidth\":1},\"geo\":{\"bgcolor\":\"white\",\"landcolor\":\"#E5ECF6\",\"subunitcolor\":\"white\",\"showland\":true,\"showlakes\":true,\"lakecolor\":\"white\"},\"title\":{\"x\":0.05},\"mapbox\":{\"style\":\"light\"}}}},                        {\"responsive\": true}                    ).then(function(){\n",
       "                            \n",
       "var gd = document.getElementById('94904d43-326f-4570-a331-6c8e20ac2e9b');\n",
       "var x = new MutationObserver(function (mutations, observer) {{\n",
       "        var display = window.getComputedStyle(gd).display;\n",
       "        if (!display || display === 'none') {{\n",
       "            console.log([gd, 'removed!']);\n",
       "            Plotly.purge(gd);\n",
       "            observer.disconnect();\n",
       "        }}\n",
       "}});\n",
       "\n",
       "// Listen for the removal of the full notebook cells\n",
       "var notebookContainer = gd.closest('#notebook-container');\n",
       "if (notebookContainer) {{\n",
       "    x.observe(notebookContainer, {childList: true});\n",
       "}}\n",
       "\n",
       "// Listen for the clearing of the current output cell\n",
       "var outputEl = gd.closest('.output');\n",
       "if (outputEl) {{\n",
       "    x.observe(outputEl, {childList: true});\n",
       "}}\n",
       "\n",
       "                        })                };                });            </script>        </div>"
      ]
     },
     "metadata": {},
     "output_type": "display_data"
    }
   ],
   "source": [
    "plot_data = go.Sankey(\n",
    "    domain={'x': [0, 1], 'y': [0, 1]},\n",
    "    link=link,\n",
    "    node=node,\n",
    "    arrangement=\"snap\"\n",
    ")\n",
    "\n",
    "fig = go.Figure(plot_data)\n",
    "fig.show()\n",
    "fig.write_image(f\"figures/fig2_seq-efficiency/fig2-sankey-{expt}.pdf\")"
   ]
  },
  {
   "cell_type": "code",
   "execution_count": null,
   "id": "2540fe0d",
   "metadata": {},
   "outputs": [],
   "source": []
  }
 ],
 "metadata": {
  "kernelspec": {
   "display_name": "Python 3 (ipykernel)",
   "language": "python",
   "name": "python3"
  },
  "language_info": {
   "codemirror_mode": {
    "name": "ipython",
    "version": 3
   },
   "file_extension": ".py",
   "mimetype": "text/x-python",
   "name": "python",
   "nbconvert_exporter": "python",
   "pygments_lexer": "ipython3",
   "version": "3.7.12"
  }
 },
 "nbformat": 4,
 "nbformat_minor": 5
}
