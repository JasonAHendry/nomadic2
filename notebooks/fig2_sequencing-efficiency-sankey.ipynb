{
 "cells": [
  {
   "cell_type": "markdown",
   "id": "69576c66",
   "metadata": {},
   "source": [
    "## Plot sequencing effiency\n",
    "\n",
    "- What fraction of the *total* data is on target?"
   ]
  },
  {
   "cell_type": "code",
   "execution_count": 272,
   "id": "d474764d",
   "metadata": {},
   "outputs": [],
   "source": [
    "import os\n",
    "import sys\n",
    "import pandas as pd\n",
    "import numpy as np\n",
    "\n",
    "\n",
    "from nomadic.pipeline.qcbams.plot import MappingStatesAndColors\n",
    "\n",
    "\n",
    "import plotly.graph_objects as go\n",
    "import seaborn as sns\n",
    "import matplotlib.pyplot as plt\n",
    "plt.rcParams[\"figure.dpi\"] = 300"
   ]
  },
  {
   "cell_type": "code",
   "execution_count": 378,
   "id": "c36643ec",
   "metadata": {},
   "outputs": [],
   "source": [
    "def get_experiment_dir(expt, barcoding=\"single_end\"):\n",
    "    d = f\"../experiments/{expt}/nomadic/guppy/hac/{barcoding}\"\n",
    "    return d\n",
    "\n",
    "def load_mapping_df(expt, barcoding=\"single_end\", state=\"primary\"):\n",
    "    expt_dir = get_experiment_dir(expt, barcoding)\n",
    "    df = pd.read_csv(f\"{expt_dir}/qc-bams/table.mapping.{state}_state.csv\")\n",
    "    return df\n",
    "\n",
    "def load_balance_df(expt, barcoding=\"single_end\"):\n",
    "    expt_dir = get_experiment_dir(expt, barcoding)\n",
    "    df = pd.read_csv(f\"{expt_dir}/target-extraction/table.target_coverage.overview.csv\")\n",
    "    return df"
   ]
  },
  {
   "cell_type": "code",
   "execution_count": 379,
   "id": "aafd886b",
   "metadata": {},
   "outputs": [],
   "source": [
    "def load_seq_effiency(expt, barcoding=\"single_end\"):\n",
    "    expt_dir = get_experiment_dir(expt, barcoding)\n",
    "    df = pd.read_csv(\n",
    "        f\"../../nomadic/experiments/{expt_dir}\"\n",
    "        \"/qc-efficiency/table.overall.effiency.csv\")\n",
    "    return df"
   ]
  },
  {
   "cell_type": "code",
   "execution_count": 380,
   "id": "1ea6f008",
   "metadata": {},
   "outputs": [],
   "source": [
    "msc = MappingStatesAndColors()"
   ]
  },
  {
   "cell_type": "markdown",
   "id": "bda52c33",
   "metadata": {},
   "source": [
    "## Load data"
   ]
  },
  {
   "cell_type": "markdown",
   "id": "682686fe",
   "metadata": {},
   "source": [
    "*Experiment*"
   ]
  },
  {
   "cell_type": "code",
   "execution_count": 381,
   "id": "0f330127",
   "metadata": {},
   "outputs": [],
   "source": [
    "#expt = \"2021-11-14_strain-validation-flongle-lfb\"\n",
    "expt = \"2022-02-16_zmb-discards-8plex\""
   ]
  },
  {
   "cell_type": "markdown",
   "id": "c1d973ba",
   "metadata": {},
   "source": [
    "*NOMADIC*"
   ]
  },
  {
   "cell_type": "code",
   "execution_count": 382,
   "id": "7751243f",
   "metadata": {},
   "outputs": [],
   "source": [
    "eff_df = load_seq_effiency(expt)\n",
    "eff_df.columns = [\"subset\", \"n_reads\", \"n_bases\"]"
   ]
  },
  {
   "cell_type": "code",
   "execution_count": 383,
   "id": "04e259d8",
   "metadata": {},
   "outputs": [
    {
     "data": {
      "text/html": [
       "<div>\n",
       "<style scoped>\n",
       "    .dataframe tbody tr th:only-of-type {\n",
       "        vertical-align: middle;\n",
       "    }\n",
       "\n",
       "    .dataframe tbody tr th {\n",
       "        vertical-align: top;\n",
       "    }\n",
       "\n",
       "    .dataframe thead th {\n",
       "        text-align: right;\n",
       "    }\n",
       "</style>\n",
       "<table border=\"1\" class=\"dataframe\">\n",
       "  <thead>\n",
       "    <tr style=\"text-align: right;\">\n",
       "      <th></th>\n",
       "      <th>subset</th>\n",
       "      <th>n_reads</th>\n",
       "      <th>n_bases</th>\n",
       "    </tr>\n",
       "  </thead>\n",
       "  <tbody>\n",
       "    <tr>\n",
       "      <th>0</th>\n",
       "      <td>n_total</td>\n",
       "      <td>1635169.0</td>\n",
       "      <td>4.848295e+09</td>\n",
       "    </tr>\n",
       "    <tr>\n",
       "      <th>1</th>\n",
       "      <td>n_passed_qc</td>\n",
       "      <td>1513165.0</td>\n",
       "      <td>4.563743e+09</td>\n",
       "    </tr>\n",
       "    <tr>\n",
       "      <th>2</th>\n",
       "      <td>n_barcoded</td>\n",
       "      <td>1454852.0</td>\n",
       "      <td>4.396009e+09</td>\n",
       "    </tr>\n",
       "    <tr>\n",
       "      <th>3</th>\n",
       "      <td>n_mapped</td>\n",
       "      <td>1095022.0</td>\n",
       "      <td>3.416287e+09</td>\n",
       "    </tr>\n",
       "    <tr>\n",
       "      <th>4</th>\n",
       "      <td>n_ontarget</td>\n",
       "      <td>1016555.0</td>\n",
       "      <td>3.334339e+09</td>\n",
       "    </tr>\n",
       "  </tbody>\n",
       "</table>\n",
       "</div>"
      ],
      "text/plain": [
       "        subset    n_reads       n_bases\n",
       "0      n_total  1635169.0  4.848295e+09\n",
       "1  n_passed_qc  1513165.0  4.563743e+09\n",
       "2   n_barcoded  1454852.0  4.396009e+09\n",
       "3     n_mapped  1095022.0  3.416287e+09\n",
       "4   n_ontarget  1016555.0  3.334339e+09"
      ]
     },
     "execution_count": 383,
     "metadata": {},
     "output_type": "execute_result"
    }
   ],
   "source": [
    "eff_df"
   ]
  },
  {
   "cell_type": "markdown",
   "id": "7e6a1f99",
   "metadata": {},
   "source": [
    "*NOMADIC2*"
   ]
  },
  {
   "cell_type": "code",
   "execution_count": 384,
   "id": "afe200f8",
   "metadata": {},
   "outputs": [],
   "source": [
    "\n",
    "mapping_df = load_mapping_df(expt)\n",
    "balance_df = load_balance_df(expt)"
   ]
  },
  {
   "cell_type": "markdown",
   "id": "dcec7371",
   "metadata": {},
   "source": [
    "## Visualise with Sankey"
   ]
  },
  {
   "cell_type": "code",
   "execution_count": 106,
   "id": "7c9ec52b",
   "metadata": {},
   "outputs": [
    {
     "data": {
      "text/html": [
       "<div>\n",
       "<style scoped>\n",
       "    .dataframe tbody tr th:only-of-type {\n",
       "        vertical-align: middle;\n",
       "    }\n",
       "\n",
       "    .dataframe tbody tr th {\n",
       "        vertical-align: top;\n",
       "    }\n",
       "\n",
       "    .dataframe thead th {\n",
       "        text-align: right;\n",
       "    }\n",
       "</style>\n",
       "<table border=\"1\" class=\"dataframe\">\n",
       "  <thead>\n",
       "    <tr style=\"text-align: right;\">\n",
       "      <th></th>\n",
       "      <th>subset</th>\n",
       "      <th>n_reads</th>\n",
       "      <th>n_bases</th>\n",
       "    </tr>\n",
       "  </thead>\n",
       "  <tbody>\n",
       "    <tr>\n",
       "      <th>0</th>\n",
       "      <td>n_total</td>\n",
       "      <td>1635169.0</td>\n",
       "      <td>4.848295e+09</td>\n",
       "    </tr>\n",
       "    <tr>\n",
       "      <th>1</th>\n",
       "      <td>n_passed_qc</td>\n",
       "      <td>1513165.0</td>\n",
       "      <td>4.563743e+09</td>\n",
       "    </tr>\n",
       "    <tr>\n",
       "      <th>2</th>\n",
       "      <td>n_barcoded</td>\n",
       "      <td>1454852.0</td>\n",
       "      <td>4.396009e+09</td>\n",
       "    </tr>\n",
       "    <tr>\n",
       "      <th>3</th>\n",
       "      <td>n_mapped</td>\n",
       "      <td>1095022.0</td>\n",
       "      <td>3.416287e+09</td>\n",
       "    </tr>\n",
       "    <tr>\n",
       "      <th>4</th>\n",
       "      <td>n_ontarget</td>\n",
       "      <td>1016555.0</td>\n",
       "      <td>3.334339e+09</td>\n",
       "    </tr>\n",
       "  </tbody>\n",
       "</table>\n",
       "</div>"
      ],
      "text/plain": [
       "        subset    n_reads       n_bases\n",
       "0      n_total  1635169.0  4.848295e+09\n",
       "1  n_passed_qc  1513165.0  4.563743e+09\n",
       "2   n_barcoded  1454852.0  4.396009e+09\n",
       "3     n_mapped  1095022.0  3.416287e+09\n",
       "4   n_ontarget  1016555.0  3.334339e+09"
      ]
     },
     "execution_count": 106,
     "metadata": {},
     "output_type": "execute_result"
    }
   ],
   "source": [
    "eff_df"
   ]
  },
  {
   "cell_type": "code",
   "execution_count": 254,
   "id": "0e1ae0de",
   "metadata": {},
   "outputs": [],
   "source": [
    "link = {\n",
    "    \"source\": [0, 0, 2, 2, 4, 4, 6, 6],\n",
    "    \"target\": [1, 2, 3, 4, 5, 6, 7, 8],\n",
    "    \"value\": [1635169-1513165, \n",
    "              1513165, \n",
    "              1513165-1454852, \n",
    "              1454852,\n",
    "              1454852-1095022,\n",
    "              1095022,\n",
    "              1095022-1016555,\n",
    "              1016555\n",
    "             ],\n",
    "}\n",
    "node = {\n",
    "    \"pad\": 15,\n",
    "    \"thickness\": 15,\n",
    "    \"line\": dict(color = \"black\", width = 0.5),\n",
    "    \"color\": sns.color_palette(\"viridis\", 9).as_hex(), #[rgb(c) for c in sns.color_palette(\"Set1\", 3)],\n",
    "    \"label\": [\"Total Reads\", \n",
    "              \"Failed QC\", \"Passed QC\", \n",
    "              \"Unclassified\", \"Barcoded\",\n",
    "              \"Unmapped\", \"Mapped\",\n",
    "              \"Off-target\", \"On-target\"\n",
    "             ],\n",
    "    \"x\": [0, 0.2, 0.2, 0.4, 0.4, 0.6, 0.6],\n",
    "    \"y\": [0, 1, 0.1, 1, 0.1, 1, 0.1]\n",
    "}"
   ]
  },
  {
   "cell_type": "code",
   "execution_count": 256,
   "id": "eef591f7",
   "metadata": {
    "scrolled": false
   },
   "outputs": [],
   "source": [
    "plot_data = go.Sankey(\n",
    "    domain={'x': [0, 1], 'y': [0, 1]},\n",
    "    link=link,\n",
    "    node=node,\n",
    "    arrangement=\"snap\"\n",
    ")"
   ]
  },
  {
   "cell_type": "code",
   "execution_count": 257,
   "id": "0b211149",
   "metadata": {},
   "outputs": [
    {
     "data": {
      "application/vnd.plotly.v1+json": {
       "config": {
        "plotlyServerURL": "https://plot.ly"
       },
       "data": [
        {
         "arrangement": "snap",
         "domain": {
          "x": [
           0,
           1
          ],
          "y": [
           0,
           1
          ]
         },
         "link": {
          "source": [
           0,
           0,
           2,
           2,
           4,
           4,
           6,
           6
          ],
          "target": [
           1,
           2,
           3,
           4,
           5,
           6,
           7,
           8
          ],
          "value": [
           122004,
           1513165,
           58313,
           1454852,
           359830,
           1095022,
           78467,
           1016555
          ]
         },
         "node": {
          "color": [
           "#482475",
           "#414487",
           "#355f8d",
           "#2a788e",
           "#21918c",
           "#22a884",
           "#44bf70",
           "#7ad151",
           "#bddf26"
          ],
          "label": [
           "Total Reads",
           "Failed QC",
           "Passed QC",
           "Unclassified",
           "Barcoded",
           "Unmapped",
           "Mapped",
           "Off-target",
           "On-target"
          ],
          "line": {
           "color": "black",
           "width": 0.5
          },
          "pad": 15,
          "thickness": 15,
          "x": [
           0,
           0.2,
           0.2,
           0.4,
           0.4,
           0.6,
           0.6
          ],
          "y": [
           0,
           1,
           0.1,
           1,
           0.1,
           1,
           0.1
          ]
         },
         "type": "sankey"
        }
       ],
       "layout": {
        "template": {
         "data": {
          "bar": [
           {
            "error_x": {
             "color": "#2a3f5f"
            },
            "error_y": {
             "color": "#2a3f5f"
            },
            "marker": {
             "line": {
              "color": "#E5ECF6",
              "width": 0.5
             },
             "pattern": {
              "fillmode": "overlay",
              "size": 10,
              "solidity": 0.2
             }
            },
            "type": "bar"
           }
          ],
          "barpolar": [
           {
            "marker": {
             "line": {
              "color": "#E5ECF6",
              "width": 0.5
             },
             "pattern": {
              "fillmode": "overlay",
              "size": 10,
              "solidity": 0.2
             }
            },
            "type": "barpolar"
           }
          ],
          "carpet": [
           {
            "aaxis": {
             "endlinecolor": "#2a3f5f",
             "gridcolor": "white",
             "linecolor": "white",
             "minorgridcolor": "white",
             "startlinecolor": "#2a3f5f"
            },
            "baxis": {
             "endlinecolor": "#2a3f5f",
             "gridcolor": "white",
             "linecolor": "white",
             "minorgridcolor": "white",
             "startlinecolor": "#2a3f5f"
            },
            "type": "carpet"
           }
          ],
          "choropleth": [
           {
            "colorbar": {
             "outlinewidth": 0,
             "ticks": ""
            },
            "type": "choropleth"
           }
          ],
          "contour": [
           {
            "colorbar": {
             "outlinewidth": 0,
             "ticks": ""
            },
            "colorscale": [
             [
              0,
              "#0d0887"
             ],
             [
              0.1111111111111111,
              "#46039f"
             ],
             [
              0.2222222222222222,
              "#7201a8"
             ],
             [
              0.3333333333333333,
              "#9c179e"
             ],
             [
              0.4444444444444444,
              "#bd3786"
             ],
             [
              0.5555555555555556,
              "#d8576b"
             ],
             [
              0.6666666666666666,
              "#ed7953"
             ],
             [
              0.7777777777777778,
              "#fb9f3a"
             ],
             [
              0.8888888888888888,
              "#fdca26"
             ],
             [
              1,
              "#f0f921"
             ]
            ],
            "type": "contour"
           }
          ],
          "contourcarpet": [
           {
            "colorbar": {
             "outlinewidth": 0,
             "ticks": ""
            },
            "type": "contourcarpet"
           }
          ],
          "heatmap": [
           {
            "colorbar": {
             "outlinewidth": 0,
             "ticks": ""
            },
            "colorscale": [
             [
              0,
              "#0d0887"
             ],
             [
              0.1111111111111111,
              "#46039f"
             ],
             [
              0.2222222222222222,
              "#7201a8"
             ],
             [
              0.3333333333333333,
              "#9c179e"
             ],
             [
              0.4444444444444444,
              "#bd3786"
             ],
             [
              0.5555555555555556,
              "#d8576b"
             ],
             [
              0.6666666666666666,
              "#ed7953"
             ],
             [
              0.7777777777777778,
              "#fb9f3a"
             ],
             [
              0.8888888888888888,
              "#fdca26"
             ],
             [
              1,
              "#f0f921"
             ]
            ],
            "type": "heatmap"
           }
          ],
          "heatmapgl": [
           {
            "colorbar": {
             "outlinewidth": 0,
             "ticks": ""
            },
            "colorscale": [
             [
              0,
              "#0d0887"
             ],
             [
              0.1111111111111111,
              "#46039f"
             ],
             [
              0.2222222222222222,
              "#7201a8"
             ],
             [
              0.3333333333333333,
              "#9c179e"
             ],
             [
              0.4444444444444444,
              "#bd3786"
             ],
             [
              0.5555555555555556,
              "#d8576b"
             ],
             [
              0.6666666666666666,
              "#ed7953"
             ],
             [
              0.7777777777777778,
              "#fb9f3a"
             ],
             [
              0.8888888888888888,
              "#fdca26"
             ],
             [
              1,
              "#f0f921"
             ]
            ],
            "type": "heatmapgl"
           }
          ],
          "histogram": [
           {
            "marker": {
             "pattern": {
              "fillmode": "overlay",
              "size": 10,
              "solidity": 0.2
             }
            },
            "type": "histogram"
           }
          ],
          "histogram2d": [
           {
            "colorbar": {
             "outlinewidth": 0,
             "ticks": ""
            },
            "colorscale": [
             [
              0,
              "#0d0887"
             ],
             [
              0.1111111111111111,
              "#46039f"
             ],
             [
              0.2222222222222222,
              "#7201a8"
             ],
             [
              0.3333333333333333,
              "#9c179e"
             ],
             [
              0.4444444444444444,
              "#bd3786"
             ],
             [
              0.5555555555555556,
              "#d8576b"
             ],
             [
              0.6666666666666666,
              "#ed7953"
             ],
             [
              0.7777777777777778,
              "#fb9f3a"
             ],
             [
              0.8888888888888888,
              "#fdca26"
             ],
             [
              1,
              "#f0f921"
             ]
            ],
            "type": "histogram2d"
           }
          ],
          "histogram2dcontour": [
           {
            "colorbar": {
             "outlinewidth": 0,
             "ticks": ""
            },
            "colorscale": [
             [
              0,
              "#0d0887"
             ],
             [
              0.1111111111111111,
              "#46039f"
             ],
             [
              0.2222222222222222,
              "#7201a8"
             ],
             [
              0.3333333333333333,
              "#9c179e"
             ],
             [
              0.4444444444444444,
              "#bd3786"
             ],
             [
              0.5555555555555556,
              "#d8576b"
             ],
             [
              0.6666666666666666,
              "#ed7953"
             ],
             [
              0.7777777777777778,
              "#fb9f3a"
             ],
             [
              0.8888888888888888,
              "#fdca26"
             ],
             [
              1,
              "#f0f921"
             ]
            ],
            "type": "histogram2dcontour"
           }
          ],
          "mesh3d": [
           {
            "colorbar": {
             "outlinewidth": 0,
             "ticks": ""
            },
            "type": "mesh3d"
           }
          ],
          "parcoords": [
           {
            "line": {
             "colorbar": {
              "outlinewidth": 0,
              "ticks": ""
             }
            },
            "type": "parcoords"
           }
          ],
          "pie": [
           {
            "automargin": true,
            "type": "pie"
           }
          ],
          "scatter": [
           {
            "fillpattern": {
             "fillmode": "overlay",
             "size": 10,
             "solidity": 0.2
            },
            "type": "scatter"
           }
          ],
          "scatter3d": [
           {
            "line": {
             "colorbar": {
              "outlinewidth": 0,
              "ticks": ""
             }
            },
            "marker": {
             "colorbar": {
              "outlinewidth": 0,
              "ticks": ""
             }
            },
            "type": "scatter3d"
           }
          ],
          "scattercarpet": [
           {
            "marker": {
             "colorbar": {
              "outlinewidth": 0,
              "ticks": ""
             }
            },
            "type": "scattercarpet"
           }
          ],
          "scattergeo": [
           {
            "marker": {
             "colorbar": {
              "outlinewidth": 0,
              "ticks": ""
             }
            },
            "type": "scattergeo"
           }
          ],
          "scattergl": [
           {
            "marker": {
             "colorbar": {
              "outlinewidth": 0,
              "ticks": ""
             }
            },
            "type": "scattergl"
           }
          ],
          "scattermapbox": [
           {
            "marker": {
             "colorbar": {
              "outlinewidth": 0,
              "ticks": ""
             }
            },
            "type": "scattermapbox"
           }
          ],
          "scatterpolar": [
           {
            "marker": {
             "colorbar": {
              "outlinewidth": 0,
              "ticks": ""
             }
            },
            "type": "scatterpolar"
           }
          ],
          "scatterpolargl": [
           {
            "marker": {
             "colorbar": {
              "outlinewidth": 0,
              "ticks": ""
             }
            },
            "type": "scatterpolargl"
           }
          ],
          "scatterternary": [
           {
            "marker": {
             "colorbar": {
              "outlinewidth": 0,
              "ticks": ""
             }
            },
            "type": "scatterternary"
           }
          ],
          "surface": [
           {
            "colorbar": {
             "outlinewidth": 0,
             "ticks": ""
            },
            "colorscale": [
             [
              0,
              "#0d0887"
             ],
             [
              0.1111111111111111,
              "#46039f"
             ],
             [
              0.2222222222222222,
              "#7201a8"
             ],
             [
              0.3333333333333333,
              "#9c179e"
             ],
             [
              0.4444444444444444,
              "#bd3786"
             ],
             [
              0.5555555555555556,
              "#d8576b"
             ],
             [
              0.6666666666666666,
              "#ed7953"
             ],
             [
              0.7777777777777778,
              "#fb9f3a"
             ],
             [
              0.8888888888888888,
              "#fdca26"
             ],
             [
              1,
              "#f0f921"
             ]
            ],
            "type": "surface"
           }
          ],
          "table": [
           {
            "cells": {
             "fill": {
              "color": "#EBF0F8"
             },
             "line": {
              "color": "white"
             }
            },
            "header": {
             "fill": {
              "color": "#C8D4E3"
             },
             "line": {
              "color": "white"
             }
            },
            "type": "table"
           }
          ]
         },
         "layout": {
          "annotationdefaults": {
           "arrowcolor": "#2a3f5f",
           "arrowhead": 0,
           "arrowwidth": 1
          },
          "autotypenumbers": "strict",
          "coloraxis": {
           "colorbar": {
            "outlinewidth": 0,
            "ticks": ""
           }
          },
          "colorscale": {
           "diverging": [
            [
             0,
             "#8e0152"
            ],
            [
             0.1,
             "#c51b7d"
            ],
            [
             0.2,
             "#de77ae"
            ],
            [
             0.3,
             "#f1b6da"
            ],
            [
             0.4,
             "#fde0ef"
            ],
            [
             0.5,
             "#f7f7f7"
            ],
            [
             0.6,
             "#e6f5d0"
            ],
            [
             0.7,
             "#b8e186"
            ],
            [
             0.8,
             "#7fbc41"
            ],
            [
             0.9,
             "#4d9221"
            ],
            [
             1,
             "#276419"
            ]
           ],
           "sequential": [
            [
             0,
             "#0d0887"
            ],
            [
             0.1111111111111111,
             "#46039f"
            ],
            [
             0.2222222222222222,
             "#7201a8"
            ],
            [
             0.3333333333333333,
             "#9c179e"
            ],
            [
             0.4444444444444444,
             "#bd3786"
            ],
            [
             0.5555555555555556,
             "#d8576b"
            ],
            [
             0.6666666666666666,
             "#ed7953"
            ],
            [
             0.7777777777777778,
             "#fb9f3a"
            ],
            [
             0.8888888888888888,
             "#fdca26"
            ],
            [
             1,
             "#f0f921"
            ]
           ],
           "sequentialminus": [
            [
             0,
             "#0d0887"
            ],
            [
             0.1111111111111111,
             "#46039f"
            ],
            [
             0.2222222222222222,
             "#7201a8"
            ],
            [
             0.3333333333333333,
             "#9c179e"
            ],
            [
             0.4444444444444444,
             "#bd3786"
            ],
            [
             0.5555555555555556,
             "#d8576b"
            ],
            [
             0.6666666666666666,
             "#ed7953"
            ],
            [
             0.7777777777777778,
             "#fb9f3a"
            ],
            [
             0.8888888888888888,
             "#fdca26"
            ],
            [
             1,
             "#f0f921"
            ]
           ]
          },
          "colorway": [
           "#636efa",
           "#EF553B",
           "#00cc96",
           "#ab63fa",
           "#FFA15A",
           "#19d3f3",
           "#FF6692",
           "#B6E880",
           "#FF97FF",
           "#FECB52"
          ],
          "font": {
           "color": "#2a3f5f"
          },
          "geo": {
           "bgcolor": "white",
           "lakecolor": "white",
           "landcolor": "#E5ECF6",
           "showlakes": true,
           "showland": true,
           "subunitcolor": "white"
          },
          "hoverlabel": {
           "align": "left"
          },
          "hovermode": "closest",
          "mapbox": {
           "style": "light"
          },
          "paper_bgcolor": "white",
          "plot_bgcolor": "#E5ECF6",
          "polar": {
           "angularaxis": {
            "gridcolor": "white",
            "linecolor": "white",
            "ticks": ""
           },
           "bgcolor": "#E5ECF6",
           "radialaxis": {
            "gridcolor": "white",
            "linecolor": "white",
            "ticks": ""
           }
          },
          "scene": {
           "xaxis": {
            "backgroundcolor": "#E5ECF6",
            "gridcolor": "white",
            "gridwidth": 2,
            "linecolor": "white",
            "showbackground": true,
            "ticks": "",
            "zerolinecolor": "white"
           },
           "yaxis": {
            "backgroundcolor": "#E5ECF6",
            "gridcolor": "white",
            "gridwidth": 2,
            "linecolor": "white",
            "showbackground": true,
            "ticks": "",
            "zerolinecolor": "white"
           },
           "zaxis": {
            "backgroundcolor": "#E5ECF6",
            "gridcolor": "white",
            "gridwidth": 2,
            "linecolor": "white",
            "showbackground": true,
            "ticks": "",
            "zerolinecolor": "white"
           }
          },
          "shapedefaults": {
           "line": {
            "color": "#2a3f5f"
           }
          },
          "ternary": {
           "aaxis": {
            "gridcolor": "white",
            "linecolor": "white",
            "ticks": ""
           },
           "baxis": {
            "gridcolor": "white",
            "linecolor": "white",
            "ticks": ""
           },
           "bgcolor": "#E5ECF6",
           "caxis": {
            "gridcolor": "white",
            "linecolor": "white",
            "ticks": ""
           }
          },
          "title": {
           "x": 0.05
          },
          "xaxis": {
           "automargin": true,
           "gridcolor": "white",
           "linecolor": "white",
           "ticks": "",
           "title": {
            "standoff": 15
           },
           "zerolinecolor": "white",
           "zerolinewidth": 2
          },
          "yaxis": {
           "automargin": true,
           "gridcolor": "white",
           "linecolor": "white",
           "ticks": "",
           "title": {
            "standoff": 15
           },
           "zerolinecolor": "white",
           "zerolinewidth": 2
          }
         }
        }
       }
      },
      "text/html": [
       "<div>                            <div id=\"6be24e22-b9ba-458d-86bd-108aad5ca430\" class=\"plotly-graph-div\" style=\"height:525px; width:100%;\"></div>            <script type=\"text/javascript\">                require([\"plotly\"], function(Plotly) {                    window.PLOTLYENV=window.PLOTLYENV || {};                                    if (document.getElementById(\"6be24e22-b9ba-458d-86bd-108aad5ca430\")) {                    Plotly.newPlot(                        \"6be24e22-b9ba-458d-86bd-108aad5ca430\",                        [{\"arrangement\":\"snap\",\"domain\":{\"x\":[0,1],\"y\":[0,1]},\"link\":{\"source\":[0,0,2,2,4,4,6,6],\"target\":[1,2,3,4,5,6,7,8],\"value\":[122004,1513165,58313,1454852,359830,1095022,78467,1016555]},\"node\":{\"color\":[\"#482475\",\"#414487\",\"#355f8d\",\"#2a788e\",\"#21918c\",\"#22a884\",\"#44bf70\",\"#7ad151\",\"#bddf26\"],\"label\":[\"Total Reads\",\"Failed QC\",\"Passed QC\",\"Unclassified\",\"Barcoded\",\"Unmapped\",\"Mapped\",\"Off-target\",\"On-target\"],\"line\":{\"color\":\"black\",\"width\":0.5},\"pad\":15,\"thickness\":15,\"x\":[0,0.2,0.2,0.4,0.4,0.6,0.6],\"y\":[0,1,0.1,1,0.1,1,0.1]},\"type\":\"sankey\"}],                        {\"template\":{\"data\":{\"histogram2dcontour\":[{\"type\":\"histogram2dcontour\",\"colorbar\":{\"outlinewidth\":0,\"ticks\":\"\"},\"colorscale\":[[0.0,\"#0d0887\"],[0.1111111111111111,\"#46039f\"],[0.2222222222222222,\"#7201a8\"],[0.3333333333333333,\"#9c179e\"],[0.4444444444444444,\"#bd3786\"],[0.5555555555555556,\"#d8576b\"],[0.6666666666666666,\"#ed7953\"],[0.7777777777777778,\"#fb9f3a\"],[0.8888888888888888,\"#fdca26\"],[1.0,\"#f0f921\"]]}],\"choropleth\":[{\"type\":\"choropleth\",\"colorbar\":{\"outlinewidth\":0,\"ticks\":\"\"}}],\"histogram2d\":[{\"type\":\"histogram2d\",\"colorbar\":{\"outlinewidth\":0,\"ticks\":\"\"},\"colorscale\":[[0.0,\"#0d0887\"],[0.1111111111111111,\"#46039f\"],[0.2222222222222222,\"#7201a8\"],[0.3333333333333333,\"#9c179e\"],[0.4444444444444444,\"#bd3786\"],[0.5555555555555556,\"#d8576b\"],[0.6666666666666666,\"#ed7953\"],[0.7777777777777778,\"#fb9f3a\"],[0.8888888888888888,\"#fdca26\"],[1.0,\"#f0f921\"]]}],\"heatmap\":[{\"type\":\"heatmap\",\"colorbar\":{\"outlinewidth\":0,\"ticks\":\"\"},\"colorscale\":[[0.0,\"#0d0887\"],[0.1111111111111111,\"#46039f\"],[0.2222222222222222,\"#7201a8\"],[0.3333333333333333,\"#9c179e\"],[0.4444444444444444,\"#bd3786\"],[0.5555555555555556,\"#d8576b\"],[0.6666666666666666,\"#ed7953\"],[0.7777777777777778,\"#fb9f3a\"],[0.8888888888888888,\"#fdca26\"],[1.0,\"#f0f921\"]]}],\"heatmapgl\":[{\"type\":\"heatmapgl\",\"colorbar\":{\"outlinewidth\":0,\"ticks\":\"\"},\"colorscale\":[[0.0,\"#0d0887\"],[0.1111111111111111,\"#46039f\"],[0.2222222222222222,\"#7201a8\"],[0.3333333333333333,\"#9c179e\"],[0.4444444444444444,\"#bd3786\"],[0.5555555555555556,\"#d8576b\"],[0.6666666666666666,\"#ed7953\"],[0.7777777777777778,\"#fb9f3a\"],[0.8888888888888888,\"#fdca26\"],[1.0,\"#f0f921\"]]}],\"contourcarpet\":[{\"type\":\"contourcarpet\",\"colorbar\":{\"outlinewidth\":0,\"ticks\":\"\"}}],\"contour\":[{\"type\":\"contour\",\"colorbar\":{\"outlinewidth\":0,\"ticks\":\"\"},\"colorscale\":[[0.0,\"#0d0887\"],[0.1111111111111111,\"#46039f\"],[0.2222222222222222,\"#7201a8\"],[0.3333333333333333,\"#9c179e\"],[0.4444444444444444,\"#bd3786\"],[0.5555555555555556,\"#d8576b\"],[0.6666666666666666,\"#ed7953\"],[0.7777777777777778,\"#fb9f3a\"],[0.8888888888888888,\"#fdca26\"],[1.0,\"#f0f921\"]]}],\"surface\":[{\"type\":\"surface\",\"colorbar\":{\"outlinewidth\":0,\"ticks\":\"\"},\"colorscale\":[[0.0,\"#0d0887\"],[0.1111111111111111,\"#46039f\"],[0.2222222222222222,\"#7201a8\"],[0.3333333333333333,\"#9c179e\"],[0.4444444444444444,\"#bd3786\"],[0.5555555555555556,\"#d8576b\"],[0.6666666666666666,\"#ed7953\"],[0.7777777777777778,\"#fb9f3a\"],[0.8888888888888888,\"#fdca26\"],[1.0,\"#f0f921\"]]}],\"mesh3d\":[{\"type\":\"mesh3d\",\"colorbar\":{\"outlinewidth\":0,\"ticks\":\"\"}}],\"scatter\":[{\"fillpattern\":{\"fillmode\":\"overlay\",\"size\":10,\"solidity\":0.2},\"type\":\"scatter\"}],\"parcoords\":[{\"type\":\"parcoords\",\"line\":{\"colorbar\":{\"outlinewidth\":0,\"ticks\":\"\"}}}],\"scatterpolargl\":[{\"type\":\"scatterpolargl\",\"marker\":{\"colorbar\":{\"outlinewidth\":0,\"ticks\":\"\"}}}],\"bar\":[{\"error_x\":{\"color\":\"#2a3f5f\"},\"error_y\":{\"color\":\"#2a3f5f\"},\"marker\":{\"line\":{\"color\":\"#E5ECF6\",\"width\":0.5},\"pattern\":{\"fillmode\":\"overlay\",\"size\":10,\"solidity\":0.2}},\"type\":\"bar\"}],\"scattergeo\":[{\"type\":\"scattergeo\",\"marker\":{\"colorbar\":{\"outlinewidth\":0,\"ticks\":\"\"}}}],\"scatterpolar\":[{\"type\":\"scatterpolar\",\"marker\":{\"colorbar\":{\"outlinewidth\":0,\"ticks\":\"\"}}}],\"histogram\":[{\"marker\":{\"pattern\":{\"fillmode\":\"overlay\",\"size\":10,\"solidity\":0.2}},\"type\":\"histogram\"}],\"scattergl\":[{\"type\":\"scattergl\",\"marker\":{\"colorbar\":{\"outlinewidth\":0,\"ticks\":\"\"}}}],\"scatter3d\":[{\"type\":\"scatter3d\",\"line\":{\"colorbar\":{\"outlinewidth\":0,\"ticks\":\"\"}},\"marker\":{\"colorbar\":{\"outlinewidth\":0,\"ticks\":\"\"}}}],\"scattermapbox\":[{\"type\":\"scattermapbox\",\"marker\":{\"colorbar\":{\"outlinewidth\":0,\"ticks\":\"\"}}}],\"scatterternary\":[{\"type\":\"scatterternary\",\"marker\":{\"colorbar\":{\"outlinewidth\":0,\"ticks\":\"\"}}}],\"scattercarpet\":[{\"type\":\"scattercarpet\",\"marker\":{\"colorbar\":{\"outlinewidth\":0,\"ticks\":\"\"}}}],\"carpet\":[{\"aaxis\":{\"endlinecolor\":\"#2a3f5f\",\"gridcolor\":\"white\",\"linecolor\":\"white\",\"minorgridcolor\":\"white\",\"startlinecolor\":\"#2a3f5f\"},\"baxis\":{\"endlinecolor\":\"#2a3f5f\",\"gridcolor\":\"white\",\"linecolor\":\"white\",\"minorgridcolor\":\"white\",\"startlinecolor\":\"#2a3f5f\"},\"type\":\"carpet\"}],\"table\":[{\"cells\":{\"fill\":{\"color\":\"#EBF0F8\"},\"line\":{\"color\":\"white\"}},\"header\":{\"fill\":{\"color\":\"#C8D4E3\"},\"line\":{\"color\":\"white\"}},\"type\":\"table\"}],\"barpolar\":[{\"marker\":{\"line\":{\"color\":\"#E5ECF6\",\"width\":0.5},\"pattern\":{\"fillmode\":\"overlay\",\"size\":10,\"solidity\":0.2}},\"type\":\"barpolar\"}],\"pie\":[{\"automargin\":true,\"type\":\"pie\"}]},\"layout\":{\"autotypenumbers\":\"strict\",\"colorway\":[\"#636efa\",\"#EF553B\",\"#00cc96\",\"#ab63fa\",\"#FFA15A\",\"#19d3f3\",\"#FF6692\",\"#B6E880\",\"#FF97FF\",\"#FECB52\"],\"font\":{\"color\":\"#2a3f5f\"},\"hovermode\":\"closest\",\"hoverlabel\":{\"align\":\"left\"},\"paper_bgcolor\":\"white\",\"plot_bgcolor\":\"#E5ECF6\",\"polar\":{\"bgcolor\":\"#E5ECF6\",\"angularaxis\":{\"gridcolor\":\"white\",\"linecolor\":\"white\",\"ticks\":\"\"},\"radialaxis\":{\"gridcolor\":\"white\",\"linecolor\":\"white\",\"ticks\":\"\"}},\"ternary\":{\"bgcolor\":\"#E5ECF6\",\"aaxis\":{\"gridcolor\":\"white\",\"linecolor\":\"white\",\"ticks\":\"\"},\"baxis\":{\"gridcolor\":\"white\",\"linecolor\":\"white\",\"ticks\":\"\"},\"caxis\":{\"gridcolor\":\"white\",\"linecolor\":\"white\",\"ticks\":\"\"}},\"coloraxis\":{\"colorbar\":{\"outlinewidth\":0,\"ticks\":\"\"}},\"colorscale\":{\"sequential\":[[0.0,\"#0d0887\"],[0.1111111111111111,\"#46039f\"],[0.2222222222222222,\"#7201a8\"],[0.3333333333333333,\"#9c179e\"],[0.4444444444444444,\"#bd3786\"],[0.5555555555555556,\"#d8576b\"],[0.6666666666666666,\"#ed7953\"],[0.7777777777777778,\"#fb9f3a\"],[0.8888888888888888,\"#fdca26\"],[1.0,\"#f0f921\"]],\"sequentialminus\":[[0.0,\"#0d0887\"],[0.1111111111111111,\"#46039f\"],[0.2222222222222222,\"#7201a8\"],[0.3333333333333333,\"#9c179e\"],[0.4444444444444444,\"#bd3786\"],[0.5555555555555556,\"#d8576b\"],[0.6666666666666666,\"#ed7953\"],[0.7777777777777778,\"#fb9f3a\"],[0.8888888888888888,\"#fdca26\"],[1.0,\"#f0f921\"]],\"diverging\":[[0,\"#8e0152\"],[0.1,\"#c51b7d\"],[0.2,\"#de77ae\"],[0.3,\"#f1b6da\"],[0.4,\"#fde0ef\"],[0.5,\"#f7f7f7\"],[0.6,\"#e6f5d0\"],[0.7,\"#b8e186\"],[0.8,\"#7fbc41\"],[0.9,\"#4d9221\"],[1,\"#276419\"]]},\"xaxis\":{\"gridcolor\":\"white\",\"linecolor\":\"white\",\"ticks\":\"\",\"title\":{\"standoff\":15},\"zerolinecolor\":\"white\",\"automargin\":true,\"zerolinewidth\":2},\"yaxis\":{\"gridcolor\":\"white\",\"linecolor\":\"white\",\"ticks\":\"\",\"title\":{\"standoff\":15},\"zerolinecolor\":\"white\",\"automargin\":true,\"zerolinewidth\":2},\"scene\":{\"xaxis\":{\"backgroundcolor\":\"#E5ECF6\",\"gridcolor\":\"white\",\"linecolor\":\"white\",\"showbackground\":true,\"ticks\":\"\",\"zerolinecolor\":\"white\",\"gridwidth\":2},\"yaxis\":{\"backgroundcolor\":\"#E5ECF6\",\"gridcolor\":\"white\",\"linecolor\":\"white\",\"showbackground\":true,\"ticks\":\"\",\"zerolinecolor\":\"white\",\"gridwidth\":2},\"zaxis\":{\"backgroundcolor\":\"#E5ECF6\",\"gridcolor\":\"white\",\"linecolor\":\"white\",\"showbackground\":true,\"ticks\":\"\",\"zerolinecolor\":\"white\",\"gridwidth\":2}},\"shapedefaults\":{\"line\":{\"color\":\"#2a3f5f\"}},\"annotationdefaults\":{\"arrowcolor\":\"#2a3f5f\",\"arrowhead\":0,\"arrowwidth\":1},\"geo\":{\"bgcolor\":\"white\",\"landcolor\":\"#E5ECF6\",\"subunitcolor\":\"white\",\"showland\":true,\"showlakes\":true,\"lakecolor\":\"white\"},\"title\":{\"x\":0.05},\"mapbox\":{\"style\":\"light\"}}}},                        {\"responsive\": true}                    ).then(function(){\n",
       "                            \n",
       "var gd = document.getElementById('6be24e22-b9ba-458d-86bd-108aad5ca430');\n",
       "var x = new MutationObserver(function (mutations, observer) {{\n",
       "        var display = window.getComputedStyle(gd).display;\n",
       "        if (!display || display === 'none') {{\n",
       "            console.log([gd, 'removed!']);\n",
       "            Plotly.purge(gd);\n",
       "            observer.disconnect();\n",
       "        }}\n",
       "}});\n",
       "\n",
       "// Listen for the removal of the full notebook cells\n",
       "var notebookContainer = gd.closest('#notebook-container');\n",
       "if (notebookContainer) {{\n",
       "    x.observe(notebookContainer, {childList: true});\n",
       "}}\n",
       "\n",
       "// Listen for the clearing of the current output cell\n",
       "var outputEl = gd.closest('.output');\n",
       "if (outputEl) {{\n",
       "    x.observe(outputEl, {childList: true});\n",
       "}}\n",
       "\n",
       "                        })                };                });            </script>        </div>"
      ]
     },
     "metadata": {},
     "output_type": "display_data"
    }
   ],
   "source": [
    "fig = go.Figure(plot_data)\n",
    "fig.show()"
   ]
  },
  {
   "cell_type": "markdown",
   "id": "56a63311",
   "metadata": {},
   "source": [
    "- This would be version one, then..."
   ]
  },
  {
   "cell_type": "markdown",
   "id": "bd73fd5e",
   "metadata": {},
   "source": [
    "## Adding  genes"
   ]
  },
  {
   "cell_type": "code",
   "execution_count": 261,
   "id": "0f093d74",
   "metadata": {},
   "outputs": [],
   "source": [
    "gene_sum_df = (balance_df\n",
    "               .query(\"overlap == 'any'\")\n",
    "               .groupby(\"gene_name\")\n",
    "               .sum()\n",
    "              )"
   ]
  },
  {
   "cell_type": "code",
   "execution_count": 263,
   "id": "e9eb7604",
   "metadata": {},
   "outputs": [
    {
     "data": {
      "text/html": [
       "<div>\n",
       "<style scoped>\n",
       "    .dataframe tbody tr th:only-of-type {\n",
       "        vertical-align: middle;\n",
       "    }\n",
       "\n",
       "    .dataframe tbody tr th {\n",
       "        vertical-align: top;\n",
       "    }\n",
       "\n",
       "    .dataframe thead th {\n",
       "        text-align: right;\n",
       "    }\n",
       "</style>\n",
       "<table border=\"1\" class=\"dataframe\">\n",
       "  <thead>\n",
       "    <tr style=\"text-align: right;\">\n",
       "      <th></th>\n",
       "      <th>reads_total</th>\n",
       "      <th>reads_mapped</th>\n",
       "      <th>bases_total</th>\n",
       "      <th>bases_mapped</th>\n",
       "      <th>mean_read_length</th>\n",
       "      <th>mean_read_qual</th>\n",
       "      <th>mismatches</th>\n",
       "      <th>error_rate</th>\n",
       "    </tr>\n",
       "    <tr>\n",
       "      <th>gene_name</th>\n",
       "      <th></th>\n",
       "      <th></th>\n",
       "      <th></th>\n",
       "      <th></th>\n",
       "      <th></th>\n",
       "      <th></th>\n",
       "      <th></th>\n",
       "      <th></th>\n",
       "    </tr>\n",
       "  </thead>\n",
       "  <tbody>\n",
       "    <tr>\n",
       "      <th>CRT1</th>\n",
       "      <td>22339.0</td>\n",
       "      <td>22339.0</td>\n",
       "      <td>75566717.0</td>\n",
       "      <td>70329993.0</td>\n",
       "      <td>152324.0</td>\n",
       "      <td>1270.3</td>\n",
       "      <td>5627319.0</td>\n",
       "      <td>3.391961</td>\n",
       "    </tr>\n",
       "    <tr>\n",
       "      <th>DHFR</th>\n",
       "      <td>255256.0</td>\n",
       "      <td>255256.0</td>\n",
       "      <td>889405773.0</td>\n",
       "      <td>820265221.0</td>\n",
       "      <td>158056.0</td>\n",
       "      <td>1207.2</td>\n",
       "      <td>43882354.0</td>\n",
       "      <td>2.271811</td>\n",
       "    </tr>\n",
       "    <tr>\n",
       "      <th>DHPS</th>\n",
       "      <td>119563.0</td>\n",
       "      <td>119563.0</td>\n",
       "      <td>408919847.0</td>\n",
       "      <td>387680440.0</td>\n",
       "      <td>150972.0</td>\n",
       "      <td>1238.3</td>\n",
       "      <td>21275815.0</td>\n",
       "      <td>2.322249</td>\n",
       "    </tr>\n",
       "    <tr>\n",
       "      <th>K13</th>\n",
       "      <td>172970.0</td>\n",
       "      <td>172970.0</td>\n",
       "      <td>640288633.0</td>\n",
       "      <td>596591684.0</td>\n",
       "      <td>164642.0</td>\n",
       "      <td>1131.5</td>\n",
       "      <td>33338717.0</td>\n",
       "      <td>2.364168</td>\n",
       "    </tr>\n",
       "    <tr>\n",
       "      <th>MDR1</th>\n",
       "      <td>226662.0</td>\n",
       "      <td>226662.0</td>\n",
       "      <td>802392488.0</td>\n",
       "      <td>782838399.0</td>\n",
       "      <td>160486.0</td>\n",
       "      <td>1100.1</td>\n",
       "      <td>29951190.0</td>\n",
       "      <td>1.637052</td>\n",
       "    </tr>\n",
       "    <tr>\n",
       "      <th>MSP2</th>\n",
       "      <td>48396.0</td>\n",
       "      <td>48396.0</td>\n",
       "      <td>175051434.0</td>\n",
       "      <td>162679831.0</td>\n",
       "      <td>159902.0</td>\n",
       "      <td>1204.4</td>\n",
       "      <td>17494919.0</td>\n",
       "      <td>4.533634</td>\n",
       "    </tr>\n",
       "    <tr>\n",
       "      <th>PMI</th>\n",
       "      <td>100450.0</td>\n",
       "      <td>100450.0</td>\n",
       "      <td>327386326.0</td>\n",
       "      <td>289416485.0</td>\n",
       "      <td>146909.0</td>\n",
       "      <td>1115.2</td>\n",
       "      <td>15839647.0</td>\n",
       "      <td>2.297388</td>\n",
       "    </tr>\n",
       "    <tr>\n",
       "      <th>PMIII</th>\n",
       "      <td>70918.0</td>\n",
       "      <td>70918.0</td>\n",
       "      <td>236173342.0</td>\n",
       "      <td>224549826.0</td>\n",
       "      <td>145672.0</td>\n",
       "      <td>1296.7</td>\n",
       "      <td>13752535.0</td>\n",
       "      <td>2.613582</td>\n",
       "    </tr>\n",
       "  </tbody>\n",
       "</table>\n",
       "</div>"
      ],
      "text/plain": [
       "           reads_total  reads_mapped  bases_total  bases_mapped  \\\n",
       "gene_name                                                         \n",
       "CRT1           22339.0       22339.0   75566717.0    70329993.0   \n",
       "DHFR          255256.0      255256.0  889405773.0   820265221.0   \n",
       "DHPS          119563.0      119563.0  408919847.0   387680440.0   \n",
       "K13           172970.0      172970.0  640288633.0   596591684.0   \n",
       "MDR1          226662.0      226662.0  802392488.0   782838399.0   \n",
       "MSP2           48396.0       48396.0  175051434.0   162679831.0   \n",
       "PMI           100450.0      100450.0  327386326.0   289416485.0   \n",
       "PMIII          70918.0       70918.0  236173342.0   224549826.0   \n",
       "\n",
       "           mean_read_length  mean_read_qual  mismatches  error_rate  \n",
       "gene_name                                                            \n",
       "CRT1               152324.0          1270.3   5627319.0    3.391961  \n",
       "DHFR               158056.0          1207.2  43882354.0    2.271811  \n",
       "DHPS               150972.0          1238.3  21275815.0    2.322249  \n",
       "K13                164642.0          1131.5  33338717.0    2.364168  \n",
       "MDR1               160486.0          1100.1  29951190.0    1.637052  \n",
       "MSP2               159902.0          1204.4  17494919.0    4.533634  \n",
       "PMI                146909.0          1115.2  15839647.0    2.297388  \n",
       "PMIII              145672.0          1296.7  13752535.0    2.613582  "
      ]
     },
     "execution_count": 263,
     "metadata": {},
     "output_type": "execute_result"
    }
   ],
   "source": [
    "gene_sum_df"
   ]
  },
  {
   "cell_type": "code",
   "execution_count": 347,
   "id": "d5203e58",
   "metadata": {},
   "outputs": [],
   "source": [
    "link = {\n",
    "    \"source\": [0, 0, 2, 2, 4, 4, 6, 6] + [8]*8,\n",
    "    \"target\": [1, 2, 3, 4, 5, 6, 7, 8] + list(range(9, 9+8)),\n",
    "    \"value\": [1635169-1513165, \n",
    "              1513165, \n",
    "              1513165-1454852, \n",
    "              1454852,\n",
    "              1454852-1095022,\n",
    "              1095022,\n",
    "              1095022-1016555,\n",
    "              1016555\n",
    "             ] + gene_sum_df[\"reads_total\"].tolist(),\n",
    "}\n",
    "node = {\n",
    "    \"pad\": 15,\n",
    "    \"thickness\": 15,\n",
    "    \"line\": dict(color = \"black\", width = 0.5),\n",
    "    \"color\": sns.color_palette(\"viridis\", 9).as_hex()\n",
    "    + sns.color_palette(\"Spectral\", 8).as_hex(), #[rgb(c) for c in sns.color_palette(\"Set1\", 3)],\n",
    "    \"label\": [\"Total Reads\", \n",
    "              \"Failed QC\", \"Passed QC\", \n",
    "              \"Unclassified\", \"Barcoded\",\n",
    "              \"Unmapped\", \"Mapped\",\n",
    "              \"Off-target\", \"On-target\"\n",
    "             ] + gene_sum_df.index.tolist(),\n",
    "    \"x\": [0, 0.15, 0.15, 0.3, 0.3, 0.45, 0.45, 0.6, 0.6] + [1]*8,\n",
    "    \"y\": [0, 0.1, 0.1, 0.5, 0.2, 0.5, 0.3, 0.5, 0.4] + list(np.linspace(-0.2, 0.2, 9))\n",
    "}"
   ]
  },
  {
   "cell_type": "code",
   "execution_count": 348,
   "id": "7e751304",
   "metadata": {
    "scrolled": false
   },
   "outputs": [],
   "source": [
    "plot_data = go.Sankey(\n",
    "    domain={'x': [0, 1], 'y': [0, 1]},\n",
    "    link=link,\n",
    "    node=node,\n",
    "    arrangement=\"snap\"\n",
    ")"
   ]
  },
  {
   "cell_type": "code",
   "execution_count": 349,
   "id": "99758a8e",
   "metadata": {},
   "outputs": [
    {
     "data": {
      "application/vnd.plotly.v1+json": {
       "config": {
        "plotlyServerURL": "https://plot.ly"
       },
       "data": [
        {
         "arrangement": "snap",
         "domain": {
          "x": [
           0,
           1
          ],
          "y": [
           0,
           1
          ]
         },
         "link": {
          "source": [
           0,
           0,
           2,
           2,
           4,
           4,
           6,
           6,
           8,
           8,
           8,
           8,
           8,
           8,
           8,
           8
          ],
          "target": [
           1,
           2,
           3,
           4,
           5,
           6,
           7,
           8,
           9,
           10,
           11,
           12,
           13,
           14,
           15,
           16
          ],
          "value": [
           122004,
           1513165,
           58313,
           1454852,
           359830,
           1095022,
           78467,
           1016555,
           22339,
           255256,
           119563,
           172970,
           226662,
           48396,
           100450,
           70918
          ]
         },
         "node": {
          "color": [
           "#482475",
           "#414487",
           "#355f8d",
           "#2a788e",
           "#21918c",
           "#22a884",
           "#44bf70",
           "#7ad151",
           "#bddf26",
           "#d8434e",
           "#f67a49",
           "#fdbf6f",
           "#feeda1",
           "#f1f9a9",
           "#bfe5a0",
           "#74c7a5",
           "#378ebb"
          ],
          "label": [
           "Total Reads",
           "Failed QC",
           "Passed QC",
           "Unclassified",
           "Barcoded",
           "Unmapped",
           "Mapped",
           "Off-target",
           "On-target",
           "CRT1",
           "DHFR",
           "DHPS",
           "K13",
           "MDR1",
           "MSP2",
           "PMI",
           "PMIII"
          ],
          "line": {
           "color": "black",
           "width": 0.5
          },
          "pad": 15,
          "thickness": 15,
          "x": [
           0,
           0.15,
           0.15,
           0.3,
           0.3,
           0.45,
           0.45,
           0.6,
           0.6,
           1,
           1,
           1,
           1,
           1,
           1,
           1,
           1
          ],
          "y": [
           0,
           0.1,
           0.1,
           0.5,
           0.2,
           0.5,
           0.3,
           0.5,
           0.4,
           -0.2,
           -0.15000000000000002,
           -0.1,
           -0.04999999999999999,
           0,
           0.04999999999999999,
           0.10000000000000003,
           0.15000000000000002,
           0.2
          ]
         },
         "type": "sankey"
        }
       ],
       "layout": {
        "template": {
         "data": {
          "bar": [
           {
            "error_x": {
             "color": "#2a3f5f"
            },
            "error_y": {
             "color": "#2a3f5f"
            },
            "marker": {
             "line": {
              "color": "#E5ECF6",
              "width": 0.5
             },
             "pattern": {
              "fillmode": "overlay",
              "size": 10,
              "solidity": 0.2
             }
            },
            "type": "bar"
           }
          ],
          "barpolar": [
           {
            "marker": {
             "line": {
              "color": "#E5ECF6",
              "width": 0.5
             },
             "pattern": {
              "fillmode": "overlay",
              "size": 10,
              "solidity": 0.2
             }
            },
            "type": "barpolar"
           }
          ],
          "carpet": [
           {
            "aaxis": {
             "endlinecolor": "#2a3f5f",
             "gridcolor": "white",
             "linecolor": "white",
             "minorgridcolor": "white",
             "startlinecolor": "#2a3f5f"
            },
            "baxis": {
             "endlinecolor": "#2a3f5f",
             "gridcolor": "white",
             "linecolor": "white",
             "minorgridcolor": "white",
             "startlinecolor": "#2a3f5f"
            },
            "type": "carpet"
           }
          ],
          "choropleth": [
           {
            "colorbar": {
             "outlinewidth": 0,
             "ticks": ""
            },
            "type": "choropleth"
           }
          ],
          "contour": [
           {
            "colorbar": {
             "outlinewidth": 0,
             "ticks": ""
            },
            "colorscale": [
             [
              0,
              "#0d0887"
             ],
             [
              0.1111111111111111,
              "#46039f"
             ],
             [
              0.2222222222222222,
              "#7201a8"
             ],
             [
              0.3333333333333333,
              "#9c179e"
             ],
             [
              0.4444444444444444,
              "#bd3786"
             ],
             [
              0.5555555555555556,
              "#d8576b"
             ],
             [
              0.6666666666666666,
              "#ed7953"
             ],
             [
              0.7777777777777778,
              "#fb9f3a"
             ],
             [
              0.8888888888888888,
              "#fdca26"
             ],
             [
              1,
              "#f0f921"
             ]
            ],
            "type": "contour"
           }
          ],
          "contourcarpet": [
           {
            "colorbar": {
             "outlinewidth": 0,
             "ticks": ""
            },
            "type": "contourcarpet"
           }
          ],
          "heatmap": [
           {
            "colorbar": {
             "outlinewidth": 0,
             "ticks": ""
            },
            "colorscale": [
             [
              0,
              "#0d0887"
             ],
             [
              0.1111111111111111,
              "#46039f"
             ],
             [
              0.2222222222222222,
              "#7201a8"
             ],
             [
              0.3333333333333333,
              "#9c179e"
             ],
             [
              0.4444444444444444,
              "#bd3786"
             ],
             [
              0.5555555555555556,
              "#d8576b"
             ],
             [
              0.6666666666666666,
              "#ed7953"
             ],
             [
              0.7777777777777778,
              "#fb9f3a"
             ],
             [
              0.8888888888888888,
              "#fdca26"
             ],
             [
              1,
              "#f0f921"
             ]
            ],
            "type": "heatmap"
           }
          ],
          "heatmapgl": [
           {
            "colorbar": {
             "outlinewidth": 0,
             "ticks": ""
            },
            "colorscale": [
             [
              0,
              "#0d0887"
             ],
             [
              0.1111111111111111,
              "#46039f"
             ],
             [
              0.2222222222222222,
              "#7201a8"
             ],
             [
              0.3333333333333333,
              "#9c179e"
             ],
             [
              0.4444444444444444,
              "#bd3786"
             ],
             [
              0.5555555555555556,
              "#d8576b"
             ],
             [
              0.6666666666666666,
              "#ed7953"
             ],
             [
              0.7777777777777778,
              "#fb9f3a"
             ],
             [
              0.8888888888888888,
              "#fdca26"
             ],
             [
              1,
              "#f0f921"
             ]
            ],
            "type": "heatmapgl"
           }
          ],
          "histogram": [
           {
            "marker": {
             "pattern": {
              "fillmode": "overlay",
              "size": 10,
              "solidity": 0.2
             }
            },
            "type": "histogram"
           }
          ],
          "histogram2d": [
           {
            "colorbar": {
             "outlinewidth": 0,
             "ticks": ""
            },
            "colorscale": [
             [
              0,
              "#0d0887"
             ],
             [
              0.1111111111111111,
              "#46039f"
             ],
             [
              0.2222222222222222,
              "#7201a8"
             ],
             [
              0.3333333333333333,
              "#9c179e"
             ],
             [
              0.4444444444444444,
              "#bd3786"
             ],
             [
              0.5555555555555556,
              "#d8576b"
             ],
             [
              0.6666666666666666,
              "#ed7953"
             ],
             [
              0.7777777777777778,
              "#fb9f3a"
             ],
             [
              0.8888888888888888,
              "#fdca26"
             ],
             [
              1,
              "#f0f921"
             ]
            ],
            "type": "histogram2d"
           }
          ],
          "histogram2dcontour": [
           {
            "colorbar": {
             "outlinewidth": 0,
             "ticks": ""
            },
            "colorscale": [
             [
              0,
              "#0d0887"
             ],
             [
              0.1111111111111111,
              "#46039f"
             ],
             [
              0.2222222222222222,
              "#7201a8"
             ],
             [
              0.3333333333333333,
              "#9c179e"
             ],
             [
              0.4444444444444444,
              "#bd3786"
             ],
             [
              0.5555555555555556,
              "#d8576b"
             ],
             [
              0.6666666666666666,
              "#ed7953"
             ],
             [
              0.7777777777777778,
              "#fb9f3a"
             ],
             [
              0.8888888888888888,
              "#fdca26"
             ],
             [
              1,
              "#f0f921"
             ]
            ],
            "type": "histogram2dcontour"
           }
          ],
          "mesh3d": [
           {
            "colorbar": {
             "outlinewidth": 0,
             "ticks": ""
            },
            "type": "mesh3d"
           }
          ],
          "parcoords": [
           {
            "line": {
             "colorbar": {
              "outlinewidth": 0,
              "ticks": ""
             }
            },
            "type": "parcoords"
           }
          ],
          "pie": [
           {
            "automargin": true,
            "type": "pie"
           }
          ],
          "scatter": [
           {
            "fillpattern": {
             "fillmode": "overlay",
             "size": 10,
             "solidity": 0.2
            },
            "type": "scatter"
           }
          ],
          "scatter3d": [
           {
            "line": {
             "colorbar": {
              "outlinewidth": 0,
              "ticks": ""
             }
            },
            "marker": {
             "colorbar": {
              "outlinewidth": 0,
              "ticks": ""
             }
            },
            "type": "scatter3d"
           }
          ],
          "scattercarpet": [
           {
            "marker": {
             "colorbar": {
              "outlinewidth": 0,
              "ticks": ""
             }
            },
            "type": "scattercarpet"
           }
          ],
          "scattergeo": [
           {
            "marker": {
             "colorbar": {
              "outlinewidth": 0,
              "ticks": ""
             }
            },
            "type": "scattergeo"
           }
          ],
          "scattergl": [
           {
            "marker": {
             "colorbar": {
              "outlinewidth": 0,
              "ticks": ""
             }
            },
            "type": "scattergl"
           }
          ],
          "scattermapbox": [
           {
            "marker": {
             "colorbar": {
              "outlinewidth": 0,
              "ticks": ""
             }
            },
            "type": "scattermapbox"
           }
          ],
          "scatterpolar": [
           {
            "marker": {
             "colorbar": {
              "outlinewidth": 0,
              "ticks": ""
             }
            },
            "type": "scatterpolar"
           }
          ],
          "scatterpolargl": [
           {
            "marker": {
             "colorbar": {
              "outlinewidth": 0,
              "ticks": ""
             }
            },
            "type": "scatterpolargl"
           }
          ],
          "scatterternary": [
           {
            "marker": {
             "colorbar": {
              "outlinewidth": 0,
              "ticks": ""
             }
            },
            "type": "scatterternary"
           }
          ],
          "surface": [
           {
            "colorbar": {
             "outlinewidth": 0,
             "ticks": ""
            },
            "colorscale": [
             [
              0,
              "#0d0887"
             ],
             [
              0.1111111111111111,
              "#46039f"
             ],
             [
              0.2222222222222222,
              "#7201a8"
             ],
             [
              0.3333333333333333,
              "#9c179e"
             ],
             [
              0.4444444444444444,
              "#bd3786"
             ],
             [
              0.5555555555555556,
              "#d8576b"
             ],
             [
              0.6666666666666666,
              "#ed7953"
             ],
             [
              0.7777777777777778,
              "#fb9f3a"
             ],
             [
              0.8888888888888888,
              "#fdca26"
             ],
             [
              1,
              "#f0f921"
             ]
            ],
            "type": "surface"
           }
          ],
          "table": [
           {
            "cells": {
             "fill": {
              "color": "#EBF0F8"
             },
             "line": {
              "color": "white"
             }
            },
            "header": {
             "fill": {
              "color": "#C8D4E3"
             },
             "line": {
              "color": "white"
             }
            },
            "type": "table"
           }
          ]
         },
         "layout": {
          "annotationdefaults": {
           "arrowcolor": "#2a3f5f",
           "arrowhead": 0,
           "arrowwidth": 1
          },
          "autotypenumbers": "strict",
          "coloraxis": {
           "colorbar": {
            "outlinewidth": 0,
            "ticks": ""
           }
          },
          "colorscale": {
           "diverging": [
            [
             0,
             "#8e0152"
            ],
            [
             0.1,
             "#c51b7d"
            ],
            [
             0.2,
             "#de77ae"
            ],
            [
             0.3,
             "#f1b6da"
            ],
            [
             0.4,
             "#fde0ef"
            ],
            [
             0.5,
             "#f7f7f7"
            ],
            [
             0.6,
             "#e6f5d0"
            ],
            [
             0.7,
             "#b8e186"
            ],
            [
             0.8,
             "#7fbc41"
            ],
            [
             0.9,
             "#4d9221"
            ],
            [
             1,
             "#276419"
            ]
           ],
           "sequential": [
            [
             0,
             "#0d0887"
            ],
            [
             0.1111111111111111,
             "#46039f"
            ],
            [
             0.2222222222222222,
             "#7201a8"
            ],
            [
             0.3333333333333333,
             "#9c179e"
            ],
            [
             0.4444444444444444,
             "#bd3786"
            ],
            [
             0.5555555555555556,
             "#d8576b"
            ],
            [
             0.6666666666666666,
             "#ed7953"
            ],
            [
             0.7777777777777778,
             "#fb9f3a"
            ],
            [
             0.8888888888888888,
             "#fdca26"
            ],
            [
             1,
             "#f0f921"
            ]
           ],
           "sequentialminus": [
            [
             0,
             "#0d0887"
            ],
            [
             0.1111111111111111,
             "#46039f"
            ],
            [
             0.2222222222222222,
             "#7201a8"
            ],
            [
             0.3333333333333333,
             "#9c179e"
            ],
            [
             0.4444444444444444,
             "#bd3786"
            ],
            [
             0.5555555555555556,
             "#d8576b"
            ],
            [
             0.6666666666666666,
             "#ed7953"
            ],
            [
             0.7777777777777778,
             "#fb9f3a"
            ],
            [
             0.8888888888888888,
             "#fdca26"
            ],
            [
             1,
             "#f0f921"
            ]
           ]
          },
          "colorway": [
           "#636efa",
           "#EF553B",
           "#00cc96",
           "#ab63fa",
           "#FFA15A",
           "#19d3f3",
           "#FF6692",
           "#B6E880",
           "#FF97FF",
           "#FECB52"
          ],
          "font": {
           "color": "#2a3f5f"
          },
          "geo": {
           "bgcolor": "white",
           "lakecolor": "white",
           "landcolor": "#E5ECF6",
           "showlakes": true,
           "showland": true,
           "subunitcolor": "white"
          },
          "hoverlabel": {
           "align": "left"
          },
          "hovermode": "closest",
          "mapbox": {
           "style": "light"
          },
          "paper_bgcolor": "white",
          "plot_bgcolor": "#E5ECF6",
          "polar": {
           "angularaxis": {
            "gridcolor": "white",
            "linecolor": "white",
            "ticks": ""
           },
           "bgcolor": "#E5ECF6",
           "radialaxis": {
            "gridcolor": "white",
            "linecolor": "white",
            "ticks": ""
           }
          },
          "scene": {
           "xaxis": {
            "backgroundcolor": "#E5ECF6",
            "gridcolor": "white",
            "gridwidth": 2,
            "linecolor": "white",
            "showbackground": true,
            "ticks": "",
            "zerolinecolor": "white"
           },
           "yaxis": {
            "backgroundcolor": "#E5ECF6",
            "gridcolor": "white",
            "gridwidth": 2,
            "linecolor": "white",
            "showbackground": true,
            "ticks": "",
            "zerolinecolor": "white"
           },
           "zaxis": {
            "backgroundcolor": "#E5ECF6",
            "gridcolor": "white",
            "gridwidth": 2,
            "linecolor": "white",
            "showbackground": true,
            "ticks": "",
            "zerolinecolor": "white"
           }
          },
          "shapedefaults": {
           "line": {
            "color": "#2a3f5f"
           }
          },
          "ternary": {
           "aaxis": {
            "gridcolor": "white",
            "linecolor": "white",
            "ticks": ""
           },
           "baxis": {
            "gridcolor": "white",
            "linecolor": "white",
            "ticks": ""
           },
           "bgcolor": "#E5ECF6",
           "caxis": {
            "gridcolor": "white",
            "linecolor": "white",
            "ticks": ""
           }
          },
          "title": {
           "x": 0.05
          },
          "xaxis": {
           "automargin": true,
           "gridcolor": "white",
           "linecolor": "white",
           "ticks": "",
           "title": {
            "standoff": 15
           },
           "zerolinecolor": "white",
           "zerolinewidth": 2
          },
          "yaxis": {
           "automargin": true,
           "gridcolor": "white",
           "linecolor": "white",
           "ticks": "",
           "title": {
            "standoff": 15
           },
           "zerolinecolor": "white",
           "zerolinewidth": 2
          }
         }
        }
       }
      },
      "text/html": [
       "<div>                            <div id=\"e3e8894e-98fe-4654-b9d8-8ba329304112\" class=\"plotly-graph-div\" style=\"height:525px; width:100%;\"></div>            <script type=\"text/javascript\">                require([\"plotly\"], function(Plotly) {                    window.PLOTLYENV=window.PLOTLYENV || {};                                    if (document.getElementById(\"e3e8894e-98fe-4654-b9d8-8ba329304112\")) {                    Plotly.newPlot(                        \"e3e8894e-98fe-4654-b9d8-8ba329304112\",                        [{\"arrangement\":\"snap\",\"domain\":{\"x\":[0,1],\"y\":[0,1]},\"link\":{\"source\":[0,0,2,2,4,4,6,6,8,8,8,8,8,8,8,8],\"target\":[1,2,3,4,5,6,7,8,9,10,11,12,13,14,15,16],\"value\":[122004,1513165,58313,1454852,359830,1095022,78467,1016555,22339.0,255256.0,119563.0,172970.0,226662.0,48396.0,100450.0,70918.0]},\"node\":{\"color\":[\"#482475\",\"#414487\",\"#355f8d\",\"#2a788e\",\"#21918c\",\"#22a884\",\"#44bf70\",\"#7ad151\",\"#bddf26\",\"#d8434e\",\"#f67a49\",\"#fdbf6f\",\"#feeda1\",\"#f1f9a9\",\"#bfe5a0\",\"#74c7a5\",\"#378ebb\"],\"label\":[\"Total Reads\",\"Failed QC\",\"Passed QC\",\"Unclassified\",\"Barcoded\",\"Unmapped\",\"Mapped\",\"Off-target\",\"On-target\",\"CRT1\",\"DHFR\",\"DHPS\",\"K13\",\"MDR1\",\"MSP2\",\"PMI\",\"PMIII\"],\"line\":{\"color\":\"black\",\"width\":0.5},\"pad\":15,\"thickness\":15,\"x\":[0,0.15,0.15,0.3,0.3,0.45,0.45,0.6,0.6,1,1,1,1,1,1,1,1],\"y\":[0,0.1,0.1,0.5,0.2,0.5,0.3,0.5,0.4,-0.2,-0.15000000000000002,-0.1,-0.04999999999999999,0.0,0.04999999999999999,0.10000000000000003,0.15000000000000002,0.2]},\"type\":\"sankey\"}],                        {\"template\":{\"data\":{\"histogram2dcontour\":[{\"type\":\"histogram2dcontour\",\"colorbar\":{\"outlinewidth\":0,\"ticks\":\"\"},\"colorscale\":[[0.0,\"#0d0887\"],[0.1111111111111111,\"#46039f\"],[0.2222222222222222,\"#7201a8\"],[0.3333333333333333,\"#9c179e\"],[0.4444444444444444,\"#bd3786\"],[0.5555555555555556,\"#d8576b\"],[0.6666666666666666,\"#ed7953\"],[0.7777777777777778,\"#fb9f3a\"],[0.8888888888888888,\"#fdca26\"],[1.0,\"#f0f921\"]]}],\"choropleth\":[{\"type\":\"choropleth\",\"colorbar\":{\"outlinewidth\":0,\"ticks\":\"\"}}],\"histogram2d\":[{\"type\":\"histogram2d\",\"colorbar\":{\"outlinewidth\":0,\"ticks\":\"\"},\"colorscale\":[[0.0,\"#0d0887\"],[0.1111111111111111,\"#46039f\"],[0.2222222222222222,\"#7201a8\"],[0.3333333333333333,\"#9c179e\"],[0.4444444444444444,\"#bd3786\"],[0.5555555555555556,\"#d8576b\"],[0.6666666666666666,\"#ed7953\"],[0.7777777777777778,\"#fb9f3a\"],[0.8888888888888888,\"#fdca26\"],[1.0,\"#f0f921\"]]}],\"heatmap\":[{\"type\":\"heatmap\",\"colorbar\":{\"outlinewidth\":0,\"ticks\":\"\"},\"colorscale\":[[0.0,\"#0d0887\"],[0.1111111111111111,\"#46039f\"],[0.2222222222222222,\"#7201a8\"],[0.3333333333333333,\"#9c179e\"],[0.4444444444444444,\"#bd3786\"],[0.5555555555555556,\"#d8576b\"],[0.6666666666666666,\"#ed7953\"],[0.7777777777777778,\"#fb9f3a\"],[0.8888888888888888,\"#fdca26\"],[1.0,\"#f0f921\"]]}],\"heatmapgl\":[{\"type\":\"heatmapgl\",\"colorbar\":{\"outlinewidth\":0,\"ticks\":\"\"},\"colorscale\":[[0.0,\"#0d0887\"],[0.1111111111111111,\"#46039f\"],[0.2222222222222222,\"#7201a8\"],[0.3333333333333333,\"#9c179e\"],[0.4444444444444444,\"#bd3786\"],[0.5555555555555556,\"#d8576b\"],[0.6666666666666666,\"#ed7953\"],[0.7777777777777778,\"#fb9f3a\"],[0.8888888888888888,\"#fdca26\"],[1.0,\"#f0f921\"]]}],\"contourcarpet\":[{\"type\":\"contourcarpet\",\"colorbar\":{\"outlinewidth\":0,\"ticks\":\"\"}}],\"contour\":[{\"type\":\"contour\",\"colorbar\":{\"outlinewidth\":0,\"ticks\":\"\"},\"colorscale\":[[0.0,\"#0d0887\"],[0.1111111111111111,\"#46039f\"],[0.2222222222222222,\"#7201a8\"],[0.3333333333333333,\"#9c179e\"],[0.4444444444444444,\"#bd3786\"],[0.5555555555555556,\"#d8576b\"],[0.6666666666666666,\"#ed7953\"],[0.7777777777777778,\"#fb9f3a\"],[0.8888888888888888,\"#fdca26\"],[1.0,\"#f0f921\"]]}],\"surface\":[{\"type\":\"surface\",\"colorbar\":{\"outlinewidth\":0,\"ticks\":\"\"},\"colorscale\":[[0.0,\"#0d0887\"],[0.1111111111111111,\"#46039f\"],[0.2222222222222222,\"#7201a8\"],[0.3333333333333333,\"#9c179e\"],[0.4444444444444444,\"#bd3786\"],[0.5555555555555556,\"#d8576b\"],[0.6666666666666666,\"#ed7953\"],[0.7777777777777778,\"#fb9f3a\"],[0.8888888888888888,\"#fdca26\"],[1.0,\"#f0f921\"]]}],\"mesh3d\":[{\"type\":\"mesh3d\",\"colorbar\":{\"outlinewidth\":0,\"ticks\":\"\"}}],\"scatter\":[{\"fillpattern\":{\"fillmode\":\"overlay\",\"size\":10,\"solidity\":0.2},\"type\":\"scatter\"}],\"parcoords\":[{\"type\":\"parcoords\",\"line\":{\"colorbar\":{\"outlinewidth\":0,\"ticks\":\"\"}}}],\"scatterpolargl\":[{\"type\":\"scatterpolargl\",\"marker\":{\"colorbar\":{\"outlinewidth\":0,\"ticks\":\"\"}}}],\"bar\":[{\"error_x\":{\"color\":\"#2a3f5f\"},\"error_y\":{\"color\":\"#2a3f5f\"},\"marker\":{\"line\":{\"color\":\"#E5ECF6\",\"width\":0.5},\"pattern\":{\"fillmode\":\"overlay\",\"size\":10,\"solidity\":0.2}},\"type\":\"bar\"}],\"scattergeo\":[{\"type\":\"scattergeo\",\"marker\":{\"colorbar\":{\"outlinewidth\":0,\"ticks\":\"\"}}}],\"scatterpolar\":[{\"type\":\"scatterpolar\",\"marker\":{\"colorbar\":{\"outlinewidth\":0,\"ticks\":\"\"}}}],\"histogram\":[{\"marker\":{\"pattern\":{\"fillmode\":\"overlay\",\"size\":10,\"solidity\":0.2}},\"type\":\"histogram\"}],\"scattergl\":[{\"type\":\"scattergl\",\"marker\":{\"colorbar\":{\"outlinewidth\":0,\"ticks\":\"\"}}}],\"scatter3d\":[{\"type\":\"scatter3d\",\"line\":{\"colorbar\":{\"outlinewidth\":0,\"ticks\":\"\"}},\"marker\":{\"colorbar\":{\"outlinewidth\":0,\"ticks\":\"\"}}}],\"scattermapbox\":[{\"type\":\"scattermapbox\",\"marker\":{\"colorbar\":{\"outlinewidth\":0,\"ticks\":\"\"}}}],\"scatterternary\":[{\"type\":\"scatterternary\",\"marker\":{\"colorbar\":{\"outlinewidth\":0,\"ticks\":\"\"}}}],\"scattercarpet\":[{\"type\":\"scattercarpet\",\"marker\":{\"colorbar\":{\"outlinewidth\":0,\"ticks\":\"\"}}}],\"carpet\":[{\"aaxis\":{\"endlinecolor\":\"#2a3f5f\",\"gridcolor\":\"white\",\"linecolor\":\"white\",\"minorgridcolor\":\"white\",\"startlinecolor\":\"#2a3f5f\"},\"baxis\":{\"endlinecolor\":\"#2a3f5f\",\"gridcolor\":\"white\",\"linecolor\":\"white\",\"minorgridcolor\":\"white\",\"startlinecolor\":\"#2a3f5f\"},\"type\":\"carpet\"}],\"table\":[{\"cells\":{\"fill\":{\"color\":\"#EBF0F8\"},\"line\":{\"color\":\"white\"}},\"header\":{\"fill\":{\"color\":\"#C8D4E3\"},\"line\":{\"color\":\"white\"}},\"type\":\"table\"}],\"barpolar\":[{\"marker\":{\"line\":{\"color\":\"#E5ECF6\",\"width\":0.5},\"pattern\":{\"fillmode\":\"overlay\",\"size\":10,\"solidity\":0.2}},\"type\":\"barpolar\"}],\"pie\":[{\"automargin\":true,\"type\":\"pie\"}]},\"layout\":{\"autotypenumbers\":\"strict\",\"colorway\":[\"#636efa\",\"#EF553B\",\"#00cc96\",\"#ab63fa\",\"#FFA15A\",\"#19d3f3\",\"#FF6692\",\"#B6E880\",\"#FF97FF\",\"#FECB52\"],\"font\":{\"color\":\"#2a3f5f\"},\"hovermode\":\"closest\",\"hoverlabel\":{\"align\":\"left\"},\"paper_bgcolor\":\"white\",\"plot_bgcolor\":\"#E5ECF6\",\"polar\":{\"bgcolor\":\"#E5ECF6\",\"angularaxis\":{\"gridcolor\":\"white\",\"linecolor\":\"white\",\"ticks\":\"\"},\"radialaxis\":{\"gridcolor\":\"white\",\"linecolor\":\"white\",\"ticks\":\"\"}},\"ternary\":{\"bgcolor\":\"#E5ECF6\",\"aaxis\":{\"gridcolor\":\"white\",\"linecolor\":\"white\",\"ticks\":\"\"},\"baxis\":{\"gridcolor\":\"white\",\"linecolor\":\"white\",\"ticks\":\"\"},\"caxis\":{\"gridcolor\":\"white\",\"linecolor\":\"white\",\"ticks\":\"\"}},\"coloraxis\":{\"colorbar\":{\"outlinewidth\":0,\"ticks\":\"\"}},\"colorscale\":{\"sequential\":[[0.0,\"#0d0887\"],[0.1111111111111111,\"#46039f\"],[0.2222222222222222,\"#7201a8\"],[0.3333333333333333,\"#9c179e\"],[0.4444444444444444,\"#bd3786\"],[0.5555555555555556,\"#d8576b\"],[0.6666666666666666,\"#ed7953\"],[0.7777777777777778,\"#fb9f3a\"],[0.8888888888888888,\"#fdca26\"],[1.0,\"#f0f921\"]],\"sequentialminus\":[[0.0,\"#0d0887\"],[0.1111111111111111,\"#46039f\"],[0.2222222222222222,\"#7201a8\"],[0.3333333333333333,\"#9c179e\"],[0.4444444444444444,\"#bd3786\"],[0.5555555555555556,\"#d8576b\"],[0.6666666666666666,\"#ed7953\"],[0.7777777777777778,\"#fb9f3a\"],[0.8888888888888888,\"#fdca26\"],[1.0,\"#f0f921\"]],\"diverging\":[[0,\"#8e0152\"],[0.1,\"#c51b7d\"],[0.2,\"#de77ae\"],[0.3,\"#f1b6da\"],[0.4,\"#fde0ef\"],[0.5,\"#f7f7f7\"],[0.6,\"#e6f5d0\"],[0.7,\"#b8e186\"],[0.8,\"#7fbc41\"],[0.9,\"#4d9221\"],[1,\"#276419\"]]},\"xaxis\":{\"gridcolor\":\"white\",\"linecolor\":\"white\",\"ticks\":\"\",\"title\":{\"standoff\":15},\"zerolinecolor\":\"white\",\"automargin\":true,\"zerolinewidth\":2},\"yaxis\":{\"gridcolor\":\"white\",\"linecolor\":\"white\",\"ticks\":\"\",\"title\":{\"standoff\":15},\"zerolinecolor\":\"white\",\"automargin\":true,\"zerolinewidth\":2},\"scene\":{\"xaxis\":{\"backgroundcolor\":\"#E5ECF6\",\"gridcolor\":\"white\",\"linecolor\":\"white\",\"showbackground\":true,\"ticks\":\"\",\"zerolinecolor\":\"white\",\"gridwidth\":2},\"yaxis\":{\"backgroundcolor\":\"#E5ECF6\",\"gridcolor\":\"white\",\"linecolor\":\"white\",\"showbackground\":true,\"ticks\":\"\",\"zerolinecolor\":\"white\",\"gridwidth\":2},\"zaxis\":{\"backgroundcolor\":\"#E5ECF6\",\"gridcolor\":\"white\",\"linecolor\":\"white\",\"showbackground\":true,\"ticks\":\"\",\"zerolinecolor\":\"white\",\"gridwidth\":2}},\"shapedefaults\":{\"line\":{\"color\":\"#2a3f5f\"}},\"annotationdefaults\":{\"arrowcolor\":\"#2a3f5f\",\"arrowhead\":0,\"arrowwidth\":1},\"geo\":{\"bgcolor\":\"white\",\"landcolor\":\"#E5ECF6\",\"subunitcolor\":\"white\",\"showland\":true,\"showlakes\":true,\"lakecolor\":\"white\"},\"title\":{\"x\":0.05},\"mapbox\":{\"style\":\"light\"}}}},                        {\"responsive\": true}                    ).then(function(){\n",
       "                            \n",
       "var gd = document.getElementById('e3e8894e-98fe-4654-b9d8-8ba329304112');\n",
       "var x = new MutationObserver(function (mutations, observer) {{\n",
       "        var display = window.getComputedStyle(gd).display;\n",
       "        if (!display || display === 'none') {{\n",
       "            console.log([gd, 'removed!']);\n",
       "            Plotly.purge(gd);\n",
       "            observer.disconnect();\n",
       "        }}\n",
       "}});\n",
       "\n",
       "// Listen for the removal of the full notebook cells\n",
       "var notebookContainer = gd.closest('#notebook-container');\n",
       "if (notebookContainer) {{\n",
       "    x.observe(notebookContainer, {childList: true});\n",
       "}}\n",
       "\n",
       "// Listen for the clearing of the current output cell\n",
       "var outputEl = gd.closest('.output');\n",
       "if (outputEl) {{\n",
       "    x.observe(outputEl, {childList: true});\n",
       "}}\n",
       "\n",
       "                        })                };                });            </script>        </div>"
      ]
     },
     "metadata": {},
     "output_type": "display_data"
    }
   ],
   "source": [
    "fig = go.Figure(plot_data)\n",
    "fig.show()"
   ]
  },
  {
   "cell_type": "markdown",
   "id": "80d756e3",
   "metadata": {},
   "source": [
    "TODO:\n",
    "- Automate or partially automate\n",
    "- Add percentages and additional information\n",
    "- For clinical discards, how to deal with the fact that a whole row of samples were dropped? That needs to come outof the whole analysis now..."
   ]
  },
  {
   "cell_type": "markdown",
   "id": "76be0cad",
   "metadata": {},
   "source": [
    "## Automate from input data (why?)"
   ]
  },
  {
   "cell_type": "markdown",
   "id": "b8f49217",
   "metadata": {},
   "source": [
    "*Before amplicons*"
   ]
  },
  {
   "cell_type": "code",
   "execution_count": 365,
   "id": "4b9f1170",
   "metadata": {},
   "outputs": [],
   "source": [
    "sources = np.repeat(np.arange(0, 8, 2), 2).tolist()\n",
    "targets = np.arange(0, 9).tolist()"
   ]
  },
  {
   "cell_type": "code",
   "execution_count": 371,
   "id": "ba7e1602",
   "metadata": {},
   "outputs": [],
   "source": [
    "# Values\n",
    "STAT = \"n_reads\"\n",
    "values = []\n",
    "for i, row in eff_df.iterrows():\n",
    "    if i == 0:\n",
    "        last_value = row[STAT]\n",
    "        continue\n",
    "    current_value = row[STAT]\n",
    "    lost = last_value - current_value\n",
    "    values.append(lost)\n",
    "    values.append(current_value)\n",
    "    last_value = current_value\n",
    "    \n",
    "# Labels\n",
    "labels_text = [\"Total Reads\", \n",
    "               \"Failed QC\", \"Passed QC\", \n",
    "               \"Unclassified\", \"Barcoded\",\n",
    "               \"Unmapped\", \"Mapped\",\n",
    "               \"Off-target\", \"On-target\"\n",
    "              ]\n",
    "norm_val = eff_df.query(\"subset == 'n_total'\").squeeze()[\"n_reads\"]\n",
    "labels_percent = [\n",
    "    f\"{l} ({100*v/norm_val:.01f}%)\"\n",
    "    for l, v in zip(labels_text, [norm_val] + values)\n",
    "]"
   ]
  },
  {
   "cell_type": "code",
   "execution_count": 372,
   "id": "c9afabb3",
   "metadata": {},
   "outputs": [
    {
     "data": {
      "text/plain": [
       "['Total Reads (100.0%)',\n",
       " 'Failed QC (7.5%)',\n",
       " 'Passed QC (92.5%)',\n",
       " 'Unclassified (3.6%)',\n",
       " 'Barcoded (89.0%)',\n",
       " 'Unmapped (22.0%)',\n",
       " 'Mapped (67.0%)',\n",
       " 'Off-target (4.8%)',\n",
       " 'On-target (62.2%)']"
      ]
     },
     "execution_count": 372,
     "metadata": {},
     "output_type": "execute_result"
    }
   ],
   "source": [
    "labels_percent"
   ]
  },
  {
   "cell_type": "code",
   "execution_count": 394,
   "id": "5fd01463",
   "metadata": {},
   "outputs": [
    {
     "data": {
      "text/plain": [
       "unmapped       11836\n",
       "hs_mapped     347699\n",
       "pf_mapped    1094955\n",
       "dtype: int64"
      ]
     },
     "execution_count": 394,
     "metadata": {},
     "output_type": "execute_result"
    }
   ],
   "source": [
    "mapping_df[msc.primary_levels].sum()"
   ]
  },
  {
   "cell_type": "code",
   "execution_count": 402,
   "id": "40b8b308",
   "metadata": {},
   "outputs": [],
   "source": [
    "eff_df.index = eff_df[\"subset\"]"
   ]
  },
  {
   "cell_type": "code",
   "execution_count": 407,
   "id": "7169128b",
   "metadata": {},
   "outputs": [
    {
     "data": {
      "text/html": [
       "<div>\n",
       "<style scoped>\n",
       "    .dataframe tbody tr th:only-of-type {\n",
       "        vertical-align: middle;\n",
       "    }\n",
       "\n",
       "    .dataframe tbody tr th {\n",
       "        vertical-align: top;\n",
       "    }\n",
       "\n",
       "    .dataframe thead th {\n",
       "        text-align: right;\n",
       "    }\n",
       "</style>\n",
       "<table border=\"1\" class=\"dataframe\">\n",
       "  <thead>\n",
       "    <tr style=\"text-align: right;\">\n",
       "      <th></th>\n",
       "      <th>subset</th>\n",
       "      <th>n_reads</th>\n",
       "      <th>n_bases</th>\n",
       "    </tr>\n",
       "    <tr>\n",
       "      <th>subset</th>\n",
       "      <th></th>\n",
       "      <th></th>\n",
       "      <th></th>\n",
       "    </tr>\n",
       "  </thead>\n",
       "  <tbody>\n",
       "    <tr>\n",
       "      <th>n_total</th>\n",
       "      <td>n_total</td>\n",
       "      <td>1635169.0</td>\n",
       "      <td>4.848295e+09</td>\n",
       "    </tr>\n",
       "    <tr>\n",
       "      <th>n_passed_qc</th>\n",
       "      <td>n_passed_qc</td>\n",
       "      <td>1513165.0</td>\n",
       "      <td>4.563743e+09</td>\n",
       "    </tr>\n",
       "    <tr>\n",
       "      <th>n_barcoded</th>\n",
       "      <td>n_barcoded</td>\n",
       "      <td>1454852.0</td>\n",
       "      <td>4.396009e+09</td>\n",
       "    </tr>\n",
       "    <tr>\n",
       "      <th>n_ontarget</th>\n",
       "      <td>n_ontarget</td>\n",
       "      <td>1016555.0</td>\n",
       "      <td>3.334339e+09</td>\n",
       "    </tr>\n",
       "  </tbody>\n",
       "</table>\n",
       "</div>"
      ],
      "text/plain": [
       "                  subset    n_reads       n_bases\n",
       "subset                                           \n",
       "n_total          n_total  1635169.0  4.848295e+09\n",
       "n_passed_qc  n_passed_qc  1513165.0  4.563743e+09\n",
       "n_barcoded    n_barcoded  1454852.0  4.396009e+09\n",
       "n_ontarget    n_ontarget  1016555.0  3.334339e+09"
      ]
     },
     "execution_count": 407,
     "metadata": {},
     "output_type": "execute_result"
    }
   ],
   "source": [
    "eff_df.drop(\"n_mapped\")"
   ]
  },
  {
   "cell_type": "code",
   "execution_count": 408,
   "id": "37acba9d",
   "metadata": {},
   "outputs": [],
   "source": [
    "ORDER = [\n",
    "    \"n_total\",\n",
    "    \"n_passed_qc\",\n",
    "    \"n_barcoded\",\n",
    "    \"pf_mapped\",\n",
    "    \"hs_mapped\",\n",
    "    \"unmapped\",\n",
    "    \"n_ontarget\"\n",
    "]"
   ]
  },
  {
   "cell_type": "code",
   "execution_count": 409,
   "id": "1080ac87",
   "metadata": {},
   "outputs": [],
   "source": [
    "values = pd.concat(\n",
    "    [eff_df[\"n_reads\"], \n",
    "     mapping_df[msc.primary_levels].sum()]\n",
    ")[ORDER]"
   ]
  },
  {
   "cell_type": "code",
   "execution_count": 410,
   "id": "eaf33908",
   "metadata": {},
   "outputs": [
    {
     "data": {
      "text/plain": [
       "n_total        1635169.0\n",
       "n_passed_qc    1513165.0\n",
       "n_barcoded     1454852.0\n",
       "pf_mapped      1094955.0\n",
       "hs_mapped       347699.0\n",
       "unmapped         11836.0\n",
       "n_ontarget     1016555.0\n",
       "dtype: float64"
      ]
     },
     "execution_count": 410,
     "metadata": {},
     "output_type": "execute_result"
    }
   ],
   "source": [
    "values"
   ]
  },
  {
   "cell_type": "code",
   "execution_count": 411,
   "id": "b88d3063",
   "metadata": {},
   "outputs": [],
   "source": [
    "from dataclasses import dataclass"
   ]
  },
  {
   "cell_type": "code",
   "execution_count": 442,
   "id": "0d2482bc",
   "metadata": {},
   "outputs": [],
   "source": [
    "@dataclass\n",
    "class Node:\n",
    "    \n",
    "    NORM_VALUE = eff_df.query(\"subset == 'n_total'\")[\"n_reads\"].squeeze()\n",
    "    \n",
    "    name: str\n",
    "    value: int\n",
    "    color: str\n",
    "    index: int\n",
    "    label: str = None\n",
    "        \n",
    "    def __post_init__(self):\n",
    "        self.label = f\"{self.name} ({100*self.value/self.NORM_VALUE:.01f}%)\""
   ]
  },
  {
   "cell_type": "markdown",
   "id": "1a7de624",
   "metadata": {},
   "source": [
    "- This will be hard to automate, because of the different branching structures\n",
    "- One solution would be to *add* the failing nodes here"
   ]
  },
  {
   "cell_type": "code",
   "execution_count": 443,
   "id": "0fa688f7",
   "metadata": {},
   "outputs": [
    {
     "data": {
      "text/plain": [
       "Node(name='hi', value=2, color='blue', index=3, label='hi (0.0%)')"
      ]
     },
     "execution_count": 443,
     "metadata": {},
     "output_type": "execute_result"
    }
   ],
   "source": [
    "Node(\"hi\", 2, \"blue\", 3)"
   ]
  },
  {
   "cell_type": "code",
   "execution_count": 444,
   "id": "816ae3f0",
   "metadata": {},
   "outputs": [],
   "source": [
    "nodes = [\n",
    "    Node(\"Total Reads\",\n",
    "         value=1635169,\n",
    "         color=\"black\",\n",
    "         index=0),\n",
    "    Node(\"No. Failed QC\",\n",
    "         value=1635169-1513165,\n",
    "         color=\"lightgrey\",\n",
    "         index=1),\n",
    "    Node(\"No. Passed QC\",\n",
    "         value=1513165,\n",
    "         color=\"lightgrey\",\n",
    "         index=2),\n",
    "    Node(\"Unclassified\",\n",
    "         value=1513165-1454852,\n",
    "         color=\"lightgrey\"\n",
    "         index=3,\n",
    "        )\n",
    "    Node(\"No. Barcoded\",\n",
    "         value=1454852,\n",
    "         color=\"lightgrey\",\n",
    "         index=4),\n",
    "    \n",
    "]"
   ]
  },
  {
   "cell_type": "code",
   "execution_count": 445,
   "id": "f4debf47",
   "metadata": {},
   "outputs": [
    {
     "data": {
      "text/plain": [
       "[Node(name='Total Reads', value=1635169, color='black', index=0, label='Total Reads (100.0%)'),\n",
       " Node(name='No. Failed QC', value=122004, color='lightgrey', index=2, label='No. Failed QC (7.5%)'),\n",
       " Node(name='No. Passed QC', value=1513165, color='lightgrey', index=1, label='No. Passed QC (92.5%)')]"
      ]
     },
     "execution_count": 445,
     "metadata": {},
     "output_type": "execute_result"
    }
   ],
   "source": [
    "nodes"
   ]
  },
  {
   "cell_type": "code",
   "execution_count": 446,
   "id": "039e4cde",
   "metadata": {},
   "outputs": [
    {
     "data": {
      "text/plain": [
       "'Total Reads (100.0%)'"
      ]
     },
     "execution_count": 446,
     "metadata": {},
     "output_type": "execute_result"
    }
   ],
   "source": [
    "nodes[0].label"
   ]
  },
  {
   "cell_type": "code",
   "execution_count": null,
   "id": "4cb26ddb",
   "metadata": {},
   "outputs": [],
   "source": []
  },
  {
   "cell_type": "code",
   "execution_count": null,
   "id": "38cc280f",
   "metadata": {},
   "outputs": [],
   "source": []
  },
  {
   "cell_type": "code",
   "execution_count": null,
   "id": "b46b2bb2",
   "metadata": {},
   "outputs": [],
   "source": []
  },
  {
   "cell_type": "markdown",
   "id": "ade832c2",
   "metadata": {},
   "source": [
    "### Visualise"
   ]
  },
  {
   "cell_type": "code",
   "execution_count": null,
   "id": "9cff0a3b",
   "metadata": {},
   "outputs": [],
   "source": [
    "link = {\n",
    "    \"source\": [0, 0, 2, 2, 4, 4, 6, 6] + [8]*8,\n",
    "    \"target\": [1, 2, 3, 4, 5, 6, 7, 8] + list(range(9, 9+8)),\n",
    "    \"value\": [1635169-1513165, \n",
    "              1513165, \n",
    "              1513165-1454852, \n",
    "              1454852,\n",
    "              1454852-1095022,\n",
    "              1095022,\n",
    "              1095022-1016555,\n",
    "              1016555\n",
    "             ] + gene_sum_df[\"reads_total\"].tolist(),\n",
    "}\n",
    "node = {\n",
    "    \"pad\": 15,\n",
    "    \"thickness\": 15,\n",
    "    \"line\": dict(color = \"black\", width = 0.5),\n",
    "    \"color\": sns.color_palette(\"viridis\", 9).as_hex()\n",
    "    + sns.color_palette(\"Spectral\", 8).as_hex(), #[rgb(c) for c in sns.color_palette(\"Set1\", 3)],\n",
    "    \"label\": [\"Total Reads\", \n",
    "              \"Failed QC\", \"Passed QC\", \n",
    "              \"Unclassified\", \"Barcoded\",\n",
    "              \"Unmapped\", \"Mapped\",\n",
    "              \"Off-target\", \"On-target\"\n",
    "             ] + gene_sum_df.index.tolist(),\n",
    "    \"x\": [0, 0.15, 0.15, 0.3, 0.3, 0.45, 0.45, 0.6, 0.6] + [1]*8,\n",
    "    \"y\": [0, 0.1, 0.1, 0.5, 0.2, 0.5, 0.3, 0.5, 0.4] + list(np.linspace(-0.2, 0.2, 9))\n",
    "}\n",
    "\n",
    "plot_data = go.Sankey(\n",
    "    domain={'x': [0, 1], 'y': [0, 1]},\n",
    "    link=link,\n",
    "    node=node,\n",
    "    arrangement=\"snap\"\n",
    ")\n",
    "\n",
    "fig = go.Figure(plot_data)\n",
    "fig.show()"
   ]
  },
  {
   "cell_type": "code",
   "execution_count": null,
   "id": "24d1753c",
   "metadata": {},
   "outputs": [],
   "source": []
  },
  {
   "cell_type": "code",
   "execution_count": null,
   "id": "aa7d428d",
   "metadata": {},
   "outputs": [],
   "source": []
  },
  {
   "cell_type": "code",
   "execution_count": null,
   "id": "cc9e7716",
   "metadata": {},
   "outputs": [],
   "source": []
  },
  {
   "cell_type": "code",
   "execution_count": null,
   "id": "aacdd1dc",
   "metadata": {},
   "outputs": [],
   "source": []
  },
  {
   "cell_type": "code",
   "execution_count": null,
   "id": "d867ff85",
   "metadata": {},
   "outputs": [],
   "source": []
  },
  {
   "cell_type": "code",
   "execution_count": null,
   "id": "97960d0b",
   "metadata": {},
   "outputs": [],
   "source": []
  }
 ],
 "metadata": {
  "kernelspec": {
   "display_name": "Python 3 (ipykernel)",
   "language": "python",
   "name": "python3"
  },
  "language_info": {
   "codemirror_mode": {
    "name": "ipython",
    "version": 3
   },
   "file_extension": ".py",
   "mimetype": "text/x-python",
   "name": "python",
   "nbconvert_exporter": "python",
   "pygments_lexer": "ipython3",
   "version": "3.7.12"
  }
 },
 "nbformat": 4,
 "nbformat_minor": 5
}
